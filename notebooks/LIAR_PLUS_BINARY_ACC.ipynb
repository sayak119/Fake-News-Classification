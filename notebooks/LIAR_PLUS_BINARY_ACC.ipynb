{
  "nbformat": 4,
  "nbformat_minor": 0,
  "metadata": {
    "kernelspec": {
      "name": "python3",
      "display_name": "Python 3"
    },
    "language_info": {
      "pygments_lexer": "ipython3",
      "nbconvert_exporter": "python",
      "version": "3.6.4",
      "file_extension": ".py",
      "codemirror_mode": {
        "name": "ipython",
        "version": 3
      },
      "name": "python",
      "mimetype": "text/x-python"
    },
    "colab": {
      "name": "LIAR PLUS BINARY ACC.ipynb",
      "version": "0.3.2",
      "provenance": [],
      "toc_visible": true
    },
    "accelerator": "GPU"
  },
  "cells": [
    {
      "cell_type": "code",
      "metadata": {
        "id": "voZyf-_AnEEj",
        "colab_type": "code",
        "colab": {}
      },
      "source": [
        "!mkdir kaggle"
      ],
      "execution_count": 0,
      "outputs": []
    },
    {
      "cell_type": "code",
      "metadata": {
        "id": "tLnqnPwVnE8n",
        "colab_type": "code",
        "colab": {
          "base_uri": "https://localhost:8080/",
          "height": 208
        },
        "outputId": "7964105f-6f77-467f-ff88-bdd0f365b8fb"
      },
      "source": [
        "!pip install kaggle"
      ],
      "execution_count": 2,
      "outputs": [
        {
          "output_type": "stream",
          "text": [
            "Requirement already satisfied: kaggle in /usr/local/lib/python3.6/dist-packages (1.5.5)\n",
            "Requirement already satisfied: certifi in /usr/local/lib/python3.6/dist-packages (from kaggle) (2019.6.16)\n",
            "Requirement already satisfied: six>=1.10 in /usr/local/lib/python3.6/dist-packages (from kaggle) (1.12.0)\n",
            "Requirement already satisfied: python-slugify in /usr/local/lib/python3.6/dist-packages (from kaggle) (3.0.3)\n",
            "Requirement already satisfied: requests in /usr/local/lib/python3.6/dist-packages (from kaggle) (2.21.0)\n",
            "Requirement already satisfied: tqdm in /usr/local/lib/python3.6/dist-packages (from kaggle) (4.28.1)\n",
            "Requirement already satisfied: python-dateutil in /usr/local/lib/python3.6/dist-packages (from kaggle) (2.5.3)\n",
            "Requirement already satisfied: urllib3<1.25,>=1.21.1 in /usr/local/lib/python3.6/dist-packages (from kaggle) (1.24.3)\n",
            "Requirement already satisfied: text-unidecode==1.2 in /usr/local/lib/python3.6/dist-packages (from python-slugify->kaggle) (1.2)\n",
            "Requirement already satisfied: idna<2.9,>=2.5 in /usr/local/lib/python3.6/dist-packages (from requests->kaggle) (2.8)\n",
            "Requirement already satisfied: chardet<3.1.0,>=3.0.2 in /usr/local/lib/python3.6/dist-packages (from requests->kaggle) (3.0.4)\n"
          ],
          "name": "stdout"
        }
      ]
    },
    {
      "cell_type": "code",
      "metadata": {
        "id": "sme7JVkVnFDa",
        "colab_type": "code",
        "colab": {}
      },
      "source": [
        "import os\n",
        "os.chdir('../root')"
      ],
      "execution_count": 0,
      "outputs": []
    },
    {
      "cell_type": "code",
      "metadata": {
        "id": "49rqmBCVnFKE",
        "colab_type": "code",
        "colab": {}
      },
      "source": [
        "!mkdir .kaggle"
      ],
      "execution_count": 0,
      "outputs": []
    },
    {
      "cell_type": "code",
      "metadata": {
        "id": "Gys-0Q8vnFQF",
        "colab_type": "code",
        "colab": {}
      },
      "source": [
        "os.chdir('.kaggle')"
      ],
      "execution_count": 0,
      "outputs": []
    },
    {
      "cell_type": "code",
      "metadata": {
        "id": "dthYtCz0nFYb",
        "colab_type": "code",
        "colab": {}
      },
      "source": [
        "import json\n",
        "token ={\"username\":\"sayak119\",\"key\":\"cac211652996002d27b5eb131fe6709d\"}\n",
        "with open('kaggle.json', 'w') as file:\n",
        "    json.dump(token, file)"
      ],
      "execution_count": 0,
      "outputs": []
    },
    {
      "cell_type": "code",
      "metadata": {
        "id": "OkrpMAJunFgS",
        "colab_type": "code",
        "colab": {}
      },
      "source": [
        "!chmod 600 kaggle.json"
      ],
      "execution_count": 0,
      "outputs": []
    },
    {
      "cell_type": "code",
      "metadata": {
        "id": "dl5mYQ2MnFpo",
        "colab_type": "code",
        "colab": {
          "base_uri": "https://localhost:8080/",
          "height": 399
        },
        "outputId": "605fb2fe-93b2-4b8d-b7a1-0dc00a48f77f"
      },
      "source": [
        "!kaggle datasets list"
      ],
      "execution_count": 8,
      "outputs": [
        {
          "output_type": "stream",
          "text": [
            "ref                                                         title                                                size  lastUpdated          downloadCount  \n",
            "----------------------------------------------------------  --------------------------------------------------  -----  -------------------  -------------  \n",
            "new-york-state/nys-environmental-remediation-sites          NYS Environmental Remediation Sites                   6MB  2019-08-09 08:27:31           2135  \n",
            "eliasdabbas/search-engine-results-flights-tickets-keywords  Search Engine Results - Flights & Tickets Keywords   22MB  2019-08-01 11:51:13           1569  \n",
            "google/google-landmarks-dataset                             Google-Landmarks Dataset                            107MB  2019-08-09 12:00:27          10843  \n",
            "new-york-city/new-york-city-current-job-postings            New York City Current Job Postings                    3MB  2019-08-04 22:04:44           6271  \n",
            "AnalyzeBoston/crimes-in-boston                              Crimes in Boston                                     10MB  2018-09-04 17:56:03           7145  \n",
            "jealousleopard/goodreadsbooks                               Goodreads-books                                     632KB  2019-06-14 16:35:05           7266  \n",
            "sudalairajkumar/chennai-water-management                    Chennai Water Management                             75KB  2019-06-19 03:42:44           5365  \n",
            "wkirgsn/electric-motor-temperature                          Electric Motor Temperature                           47MB  2019-06-19 11:12:41           2779  \n",
            "matheusfreitag/gas-prices-in-brazil                         Gas Prices in Brazil                                  3MB  2019-07-12 16:23:52           4110  \n",
            "r3w0p4/recorded-crime-data-at-police-force-area-level       Recorded Crime Data at the Police Force Area Level  300KB  2019-06-21 15:16:46           1528  \n",
            "jolasa/waves-measuring-buoys-data-mooloolaba                Waves Measuring Buoys Data                          599KB  2019-07-07 16:59:44            761  \n",
            "doit-intl/autotel-shared-car-locations                      Shared Cars Locations                                78MB  2019-01-10 13:06:00            796  \n",
            "Madgrades/uw-madison-courses                                UW Madison Courses and Grades 2006-2017              90MB  2018-05-15 18:58:25           1186  \n",
            "r3w0p4/bournemouth-venues                                   Venues in Bournemouth                                 3KB  2019-07-08 14:26:48            543  \n",
            "datafiniti/womens-shoes-prices                              Women's Shoe Prices                                  12MB  2019-06-24 22:50:14           9728  \n",
            "university-of-edinburgh/peace-agreements-dataset            Peace Agreements Dataset                              1MB  2018-03-05 16:39:50            540  \n",
            "citizen-ds-ghana/health-facilities-gh                       Ghana Health Facilities                              84KB  2018-09-03 01:19:24            692  \n",
            "inIT-OWL/vega-shrinkwrapper-runtofailure-data               Vega shrink-wrapper component degradation           408KB  2018-11-12 13:03:43            233  \n",
            "datafiniti/pizza-restaurants-and-the-pizza-they-sell        Pizza Restaurants and the Pizza They Sell           850KB  2019-05-30 00:21:21           4560  \n",
            "citylines/city-lines                                        Transit systems of world                              3MB  2019-03-25 16:53:05           1600  \n"
          ],
          "name": "stdout"
        }
      ]
    },
    {
      "cell_type": "code",
      "metadata": {
        "id": "gqBGJJXGnF0O",
        "colab_type": "code",
        "colab": {}
      },
      "source": [
        "os.chdir('../../content/kaggle')"
      ],
      "execution_count": 0,
      "outputs": []
    },
    {
      "cell_type": "code",
      "metadata": {
        "id": "MQPC8RZanb8Q",
        "colab_type": "code",
        "colab": {
          "base_uri": "https://localhost:8080/",
          "height": 69
        },
        "outputId": "e7c35101-9b2b-41b1-bc27-2d2d9d143236"
      },
      "source": [
        "!ls -la"
      ],
      "execution_count": 10,
      "outputs": [
        {
          "output_type": "stream",
          "text": [
            "total 8\n",
            "drwxr-xr-x 2 root root 4096 Aug  9 13:41 .\n",
            "drwxr-xr-x 1 root root 4096 Aug  9 13:41 ..\n"
          ],
          "name": "stdout"
        }
      ]
    },
    {
      "cell_type": "code",
      "metadata": {
        "id": "fW_WvvQincFs",
        "colab_type": "code",
        "colab": {
          "base_uri": "https://localhost:8080/",
          "height": 69
        },
        "outputId": "897302b2-8b78-42d1-af0a-0e8527cf5cd3"
      },
      "source": [
        "!kaggle datasets download -d authman/pickled-crawl300d2m-for-kernel-competitions"
      ],
      "execution_count": 11,
      "outputs": [
        {
          "output_type": "stream",
          "text": [
            "Downloading pickled-crawl300d2m-for-kernel-competitions.zip to /content/kaggle\n",
            " 99% 1.68G/1.69G [00:37<00:00, 57.3MB/s]\n",
            "100% 1.69G/1.69G [00:37<00:00, 48.6MB/s]\n"
          ],
          "name": "stdout"
        }
      ]
    },
    {
      "cell_type": "code",
      "metadata": {
        "id": "LaiHU2i1ncNK",
        "colab_type": "code",
        "colab": {
          "base_uri": "https://localhost:8080/",
          "height": 69
        },
        "outputId": "52d4d0d1-66da-4277-bbc5-d5a5b441d1bb"
      },
      "source": [
        "!kaggle datasets download -d authman/pickled-glove840b300d-for-10sec-loading"
      ],
      "execution_count": 12,
      "outputs": [
        {
          "output_type": "stream",
          "text": [
            "Downloading pickled-glove840b300d-for-10sec-loading.zip to /content/kaggle\n",
            "100% 2.33G/2.33G [00:40<00:00, 60.0MB/s]\n",
            "100% 2.33G/2.33G [00:40<00:00, 62.4MB/s]\n"
          ],
          "name": "stdout"
        }
      ]
    },
    {
      "cell_type": "code",
      "metadata": {
        "id": "RFHZAuffncRm",
        "colab_type": "code",
        "colab": {
          "base_uri": "https://localhost:8080/",
          "height": 52
        },
        "outputId": "64ee01f7-0c21-40d9-b339-a21aa7e3a5c3"
      },
      "source": [
        "!unzip pickled-crawl300d2m-for-kernel-competitions.zip"
      ],
      "execution_count": 13,
      "outputs": [
        {
          "output_type": "stream",
          "text": [
            "Archive:  pickled-crawl300d2m-for-kernel-competitions.zip\n",
            "  inflating: crawl-300d-2M.pkl       \n"
          ],
          "name": "stdout"
        }
      ]
    },
    {
      "cell_type": "code",
      "metadata": {
        "id": "egF8YNbYncXf",
        "colab_type": "code",
        "colab": {
          "base_uri": "https://localhost:8080/",
          "height": 52
        },
        "outputId": "f3db19b0-7baa-4b98-a8c7-7dc5b79127c6"
      },
      "source": [
        "!unzip pickled-glove840b300d-for-10sec-loading.zip"
      ],
      "execution_count": 14,
      "outputs": [
        {
          "output_type": "stream",
          "text": [
            "Archive:  pickled-glove840b300d-for-10sec-loading.zip\n",
            "  inflating: glove.840B.300d.pkl     \n"
          ],
          "name": "stdout"
        }
      ]
    },
    {
      "cell_type": "code",
      "metadata": {
        "id": "ppoEOalPncfc",
        "colab_type": "code",
        "colab": {
          "base_uri": "https://localhost:8080/",
          "height": 121
        },
        "outputId": "eb0d4153-e0eb-4bd3-b058-f18d86f1738f"
      },
      "source": [
        "!git clone https://github.com/Tariq60/LIAR-PLUS.git"
      ],
      "execution_count": 15,
      "outputs": [
        {
          "output_type": "stream",
          "text": [
            "Cloning into 'LIAR-PLUS'...\n",
            "remote: Enumerating objects: 9, done.\u001b[K\n",
            "remote: Counting objects:  11% (1/9)\u001b[K\rremote: Counting objects:  22% (2/9)\u001b[K\rremote: Counting objects:  33% (3/9)\u001b[K\rremote: Counting objects:  44% (4/9)\u001b[K\rremote: Counting objects:  55% (5/9)\u001b[K\rremote: Counting objects:  66% (6/9)\u001b[K\rremote: Counting objects:  77% (7/9)\u001b[K\rremote: Counting objects:  88% (8/9)\u001b[K\rremote: Counting objects: 100% (9/9)\u001b[K\rremote: Counting objects: 100% (9/9), done.\u001b[K\n",
            "remote: Compressing objects: 100% (9/9), done.\u001b[K\n",
            "remote: Total 77 (delta 2), reused 0 (delta 0), pack-reused 68\u001b[K\n",
            "Unpacking objects: 100% (77/77), done.\n"
          ],
          "name": "stdout"
        }
      ]
    },
    {
      "cell_type": "code",
      "metadata": {
        "id": "WUyeXGe5nmWB",
        "colab_type": "code",
        "colab": {
          "base_uri": "https://localhost:8080/",
          "height": 208
        },
        "outputId": "dca13fa6-f785-4069-8e5f-b97a2d66ff8f"
      },
      "source": [
        "!wget -c \"https://s3.amazonaws.com/dl4j-distribution/GoogleNews-vectors-negative300.bin.gz\""
      ],
      "execution_count": 16,
      "outputs": [
        {
          "output_type": "stream",
          "text": [
            "--2019-08-09 13:45:29--  https://s3.amazonaws.com/dl4j-distribution/GoogleNews-vectors-negative300.bin.gz\n",
            "Resolving s3.amazonaws.com (s3.amazonaws.com)... 52.216.146.45\n",
            "Connecting to s3.amazonaws.com (s3.amazonaws.com)|52.216.146.45|:443... connected.\n",
            "HTTP request sent, awaiting response... 200 OK\n",
            "Length: 1647046227 (1.5G) [application/x-gzip]\n",
            "Saving to: ‘GoogleNews-vectors-negative300.bin.gz’\n",
            "\n",
            "GoogleNews-vectors- 100%[===================>]   1.53G  36.2MB/s    in 45s     \n",
            "\n",
            "2019-08-09 13:46:14 (35.3 MB/s) - ‘GoogleNews-vectors-negative300.bin.gz’ saved [1647046227/1647046227]\n",
            "\n"
          ],
          "name": "stdout"
        }
      ]
    },
    {
      "cell_type": "code",
      "metadata": {
        "id": "zI6UiJSCnmbu",
        "colab_type": "code",
        "colab": {}
      },
      "source": [
        "!gunzip GoogleNews-vectors-negative300.bin.gz"
      ],
      "execution_count": 0,
      "outputs": []
    },
    {
      "cell_type": "code",
      "metadata": {
        "id": "iXUf4DoQncq_",
        "colab_type": "code",
        "colab": {}
      },
      "source": [
        "os.chdir('..')"
      ],
      "execution_count": 0,
      "outputs": []
    },
    {
      "cell_type": "code",
      "metadata": {
        "_uuid": "8f2839f25d086af736a60e9eeb907d3b93b6e0e5",
        "_cell_guid": "b1076dfc-b9ad-4769-8c92-a6c4dae69d19",
        "trusted": true,
        "id": "1U3OgMXkZIQ5",
        "colab_type": "code",
        "colab": {}
      },
      "source": [
        "import pandas as pd \n",
        "import numpy as np\n",
        "import matplotlib.pyplot as plt\n",
        "import seaborn as sns\n",
        "\n",
        "from wordcloud import WordCloud, STOPWORDS\n",
        "from gensim.parsing.preprocessing import STOPWORDS\n",
        "import pickle\n",
        "from tqdm import tqdm\n",
        "tqdm.pandas()\n",
        "\n",
        "COLUMN_NAMES = ['id', 'label', 'statement', 'subject', 'speaker',\n",
        "               'speakers_job', 'state_info', 'party_aff', 'bt_cnt',\n",
        "               'f_cnt', 'ht_cnt', 'mt_cnt', 'pf_cnt', 'context',\n",
        "               'justification']\n",
        "\n",
        "BATCH_SIZE = 256\n",
        "\n",
        "GLOVE_EMBEDDING_PATH = 'kaggle/glove.840B.300d.pkl'\n",
        "CRAWL_EMBEDDING_PATH = 'kaggle/crawl-300d-2M.pkl'\n",
        "DATA_PATH = 'kaggle/LIAR-PLUS/'\n",
        "\n",
        "BASIC_FEAT_PERCENTILE = 95"
      ],
      "execution_count": 0,
      "outputs": []
    },
    {
      "cell_type": "code",
      "metadata": {
        "_uuid": "d629ff2d2480ee46fbb7e2d37f6b5fab8052498a",
        "_cell_guid": "79c7e3d0-c299-4dcb-8224-4455121ee9b0",
        "trusted": true,
        "id": "-1UT4G4uZIRD",
        "colab_type": "code",
        "colab": {
          "base_uri": "https://localhost:8080/",
          "height": 121
        },
        "outputId": "e6a484e0-1b33-462c-eebe-149950b10eec"
      },
      "source": [
        "! ls -la"
      ],
      "execution_count": 41,
      "outputs": [
        {
          "output_type": "stream",
          "text": [
            "total 20\n",
            "drwxr-xr-x 1 root root 4096 Aug  9 13:41 .\n",
            "drwxr-xr-x 1 root root 4096 Aug  9 13:36 ..\n",
            "drwxr-xr-x 1 root root 4096 Aug  7 16:05 .config\n",
            "drwxr-xr-x 3 root root 4096 Aug  9 13:46 kaggle\n",
            "drwxr-xr-x 1 root root 4096 Aug  2 16:06 sample_data\n"
          ],
          "name": "stdout"
        }
      ]
    },
    {
      "cell_type": "code",
      "metadata": {
        "trusted": true,
        "id": "QFKMn2isZIRJ",
        "colab_type": "code",
        "colab": {
          "base_uri": "https://localhost:8080/",
          "height": 52
        },
        "outputId": "715c9378-b83a-45c9-f5f2-25d36662b050"
      },
      "source": [
        "train = pd.read_csv(DATA_PATH + 'dataset/train2.tsv', sep = '\\t', names = COLUMN_NAMES)\n",
        "test = pd.read_csv(DATA_PATH + 'dataset/test2.tsv', sep = '\\t', names = COLUMN_NAMES)\n",
        "valid = pd.read_csv(DATA_PATH + 'dataset/val2.tsv', sep = '\\t', names = COLUMN_NAMES)\n",
        "\n",
        "train['justification'].fillna('Empty', inplace = True)\n",
        "test['justification'].fillna('Empty', inplace = True)\n",
        "valid['justification'].fillna('Empty', inplace = True)\n",
        "print(train.shape, test.shape, valid.shape)\n",
        "data = pd.DataFrame(np.vstack([train.values, valid.values, test.values]), columns = COLUMN_NAMES)\n",
        "print(data.shape)"
      ],
      "execution_count": 42,
      "outputs": [
        {
          "output_type": "stream",
          "text": [
            "(10240, 15) (1267, 15) (1284, 15)\n",
            "(12791, 15)\n"
          ],
          "name": "stdout"
        }
      ]
    },
    {
      "cell_type": "code",
      "metadata": {
        "trusted": true,
        "id": "rGbCp-y5ZIRO",
        "colab_type": "code",
        "colab": {}
      },
      "source": [
        "# Binary label translation\n",
        "label_dict = {\n",
        "    'half-true': 0,\n",
        "    'false': 0,\n",
        "    'mostly-true': 1,\n",
        "    'true': 1,\n",
        "    'barely-true': 1,\n",
        "    'pants-fire': 0\n",
        "}\n",
        "\n",
        "data['binary_label'] = data['label'].map(label_dict)"
      ],
      "execution_count": 0,
      "outputs": []
    },
    {
      "cell_type": "code",
      "metadata": {
        "trusted": true,
        "id": "GRWcu1bFZIRV",
        "colab_type": "code",
        "colab": {}
      },
      "source": [
        "for index, value in enumerate(data['label']):\n",
        "    if value == 'pants-fire':\n",
        "        data.loc[index, 'pf_cnt'] -= 1\n",
        "    elif value == 'false':\n",
        "        data.loc[index, 'f_cnt'] -= 1\n",
        "    elif value == 'half-true':\n",
        "        data.loc[index, 'ht_cnt'] -= 1\n",
        "    elif value == 'barely-true':\n",
        "        data.loc[index, 'bt_cnt'] -= 1\n",
        "    elif value == 'mostly-true':\n",
        "        data.loc[index, 'mt_cnt'] -= 1"
      ],
      "execution_count": 0,
      "outputs": []
    },
    {
      "cell_type": "markdown",
      "metadata": {
        "id": "TAm6Z8nVZIRY",
        "colab_type": "text"
      },
      "source": [
        "### Load best embeddigs from EDA"
      ]
    },
    {
      "cell_type": "code",
      "metadata": {
        "trusted": true,
        "id": "HlU8PI76ZIRa",
        "colab_type": "code",
        "colab": {}
      },
      "source": [
        "import operator \n",
        "\n",
        "# TAKEN FROM https://www.kaggle.com/christofhenkel/how-to-preprocessing-for-glove-part1-eda\n",
        "\n",
        "def check_coverage(vocab,embeddings_index):\n",
        "    a = {}\n",
        "    oov = {}\n",
        "    k = 0\n",
        "    i = 0\n",
        "    for word in tqdm(vocab):\n",
        "        try:\n",
        "            a[word] = embeddings_index[word]\n",
        "            k += vocab[word]\n",
        "        except:\n",
        "\n",
        "            oov[word] = vocab[word]\n",
        "            i += vocab[word]\n",
        "            pass\n",
        "\n",
        "    print('Found embeddings for {:.2%} of vocab'.format(len(a) / len(vocab)))\n",
        "    print('Found embeddings for  {:.2%} of all text'.format(k / (k + i)))\n",
        "    sorted_x = sorted(oov.items(), key=operator.itemgetter(1))[::-1]\n",
        "\n",
        "    return sorted_x\n",
        "\n",
        "def build_vocab(sentences, verbose =  True):\n",
        "    \"\"\"\n",
        "    :param sentences: list of list of words\n",
        "    :return: dictionary of words and their count\n",
        "    \"\"\"\n",
        "    vocab = {}\n",
        "    for sentence in tqdm(sentences, disable = (not verbose)):\n",
        "        for word in sentence:\n",
        "            try:\n",
        "                vocab[word] += 1\n",
        "            except KeyError:\n",
        "                vocab[word] = 1\n",
        "    return vocab"
      ],
      "execution_count": 0,
      "outputs": []
    },
    {
      "cell_type": "code",
      "metadata": {
        "trusted": true,
        "id": "D3dT_KbiZIRe",
        "colab_type": "code",
        "colab": {}
      },
      "source": [
        "def get_coefs(word, *arr):\n",
        "    return word, np.asarray(arr, dtype='float32')\n",
        "\n",
        "\n",
        "def load_embeddings(path):\n",
        "    with open(path,'rb') as f:\n",
        "        emb_arr = pickle.load(f)\n",
        "    return emb_arr\n",
        "\n",
        "def build_matrix(word_index, path):\n",
        "    embedding_index = load_embeddings(path)\n",
        "    embedding_matrix = np.zeros((len(word_index) + 1, 300))\n",
        "    unknown_words = []\n",
        "    \n",
        "    for word, i in word_index.items():\n",
        "        try:\n",
        "            embedding_matrix[i] = embedding_index[word]\n",
        "        except KeyError:\n",
        "            unknown_words.append(word)\n",
        "    return embedding_matrix, unknown_words"
      ],
      "execution_count": 0,
      "outputs": []
    },
    {
      "cell_type": "code",
      "metadata": {
        "trusted": true,
        "id": "cteZ2_qDZIRi",
        "colab_type": "code",
        "colab": {
          "base_uri": "https://localhost:8080/",
          "height": 34
        },
        "outputId": "39357dff-65e3-47c6-89c8-c7cee7f71c21"
      },
      "source": [
        "import time \n",
        "tic = time.time()\n",
        "crawl_embeddings = load_embeddings(CRAWL_EMBEDDING_PATH)\n",
        "print(f'loaded {len(crawl_embeddings)} word vectors in {time.time()-tic}s')"
      ],
      "execution_count": 47,
      "outputs": [
        {
          "output_type": "stream",
          "text": [
            "loaded 2000000 word vectors in 14.725383281707764s\n"
          ],
          "name": "stdout"
        }
      ]
    },
    {
      "cell_type": "code",
      "metadata": {
        "trusted": true,
        "id": "Xi1RrmtyZIRm",
        "colab_type": "code",
        "colab": {}
      },
      "source": [
        "symbols_to_isolate = '.,?!-;*\"…:—()%#$&_/@＼・ω+=”“[]^–>\\\\°<~•≠™ˈʊɒ∞§{}·τα❤☺ɡ|¢→̶`❥━┣┫┗Ｏ►★©―ɪ✔®\\x96\\x92●£♥➤´¹☕≈÷♡◐║▬′ɔː€۩۞†μ✒➥═☆ˌ◄½ʻπδηλσερνʃ✬ＳＵＰＥＲＩＴ☻±♍µº¾✓◾؟．⬅℅»Вав❣⋅¿¬♫ＣＭβ█▓▒░⇒⭐›¡₂₃❧▰▔◞▀▂▃▄▅▆▇↙γ̄″☹➡«φ⅓„✋：¥̲̅́∙‛◇✏▷❓❗¶˚˙）сиʿ✨。ɑ\\x80◕！％¯−ﬂﬁ₁²ʌ¼⁴⁄₄⌠♭✘╪▶☭✭♪☔☠♂☃☎✈✌✰❆☙○‣⚓年∎ℒ▪▙☏⅛ｃａｓǀ℮¸ｗ‚∼‖ℳ❄←☼⋆ʒ⊂、⅔¨͡๏⚾⚽Φ×θ￦？（℃⏩☮⚠月✊❌⭕▸■⇌☐☑⚡☄ǫ╭∩╮，例＞ʕɐ̣Δ₀✞┈╱╲▏▕┃╰▊▋╯┳┊≥☒↑☝ɹ✅☛♩☞ＡＪＢ◔◡↓♀⬆̱ℏ\\x91⠀ˤ╚↺⇤∏✾◦♬³の｜／∵∴√Ω¤☜▲↳▫‿⬇✧ｏｖｍ－２０８＇‰≤∕ˆ⚜☁'\n",
        "symbols_to_delete = '\\n🍕\\r🐵😑\\xa0\\ue014\\t\\uf818\\uf04a\\xad😢🐶️\\uf0e0😜😎👊\\u200b\\u200e😁عدويهصقأناخلىبمغر😍💖💵Е👎😀😂\\u202a\\u202c🔥😄🏻💥ᴍʏʀᴇɴᴅᴏᴀᴋʜᴜʟᴛᴄᴘʙғᴊᴡɢ😋👏שלוםבי😱‼\\x81エンジ故障\\u2009🚌ᴵ͞🌟😊😳😧🙀😐😕\\u200f👍😮😃😘אעכח💩💯⛽🚄🏼ஜ😖ᴠ🚲‐😟😈💪🙏🎯🌹😇💔😡\\x7f👌ἐὶήιὲκἀίῃἴξ🙄Ｈ😠\\ufeff\\u2028😉😤⛺🙂\\u3000تحكسة👮💙فزط😏🍾🎉😞\\u2008🏾😅😭👻😥😔😓🏽🎆🍻🍽🎶🌺🤔😪\\x08‑🐰🐇🐱🙆😨🙃💕𝘊𝘦𝘳𝘢𝘵𝘰𝘤𝘺𝘴𝘪𝘧𝘮𝘣💗💚地獄谷улкнПоАН🐾🐕😆ה🔗🚽歌舞伎🙈😴🏿🤗🇺🇸мυтѕ⤵🏆🎃😩\\u200a🌠🐟💫💰💎эпрд\\x95🖐🙅⛲🍰🤐👆🙌\\u2002💛🙁👀🙊🙉\\u2004ˢᵒʳʸᴼᴷᴺʷᵗʰᵉᵘ\\x13🚬🤓\\ue602😵άοόςέὸתמדףנרךצט😒͝🆕👅👥👄🔄🔤👉👤👶👲🔛🎓\\uf0b7\\uf04c\\x9f\\x10成都😣⏺😌🤑🌏😯ех😲Ἰᾶὁ💞🚓🔔📚🏀👐\\u202d💤🍇\\ue613小土豆🏡❔⁉\\u202f👠》कर्मा🇹🇼🌸蔡英文🌞🎲レクサス😛外国人关系Сб💋💀🎄💜🤢َِьыгя不是\\x9c\\x9d🗑\\u2005💃📣👿༼つ༽😰ḷЗз▱ц￼🤣卖温哥华议会下降你失去所有的钱加拿大坏税骗子🐝ツ🎅\\x85🍺آإشء🎵🌎͟ἔ油别克🤡🤥😬🤧й\\u2003🚀🤴ʲшчИОРФДЯМюж😝🖑ὐύύ特殊作戦群щ💨圆明园קℐ🏈😺🌍⏏ệ🍔🐮🍁🍆🍑🌮🌯🤦\\u200d𝓒𝓲𝓿𝓵안영하세요ЖљКћ🍀😫🤤ῦ我出生在了可以说普通话汉语好极🎼🕺🍸🥂🗽🎇🎊🆘🤠👩🖒🚪天一家⚲\\u2006⚭⚆⬭⬯⏖新✀╌🇫🇷🇩🇪🇮🇬🇧😷🇨🇦ХШ🌐\\x1f杀鸡给猴看ʁ𝗪𝗵𝗲𝗻𝘆𝗼𝘂𝗿𝗮𝗹𝗶𝘇𝗯𝘁𝗰𝘀𝘅𝗽𝘄𝗱📺ϖ\\u2000үսᴦᎥһͺ\\u2007հ\\u2001ɩｙｅ൦ｌƽｈ𝐓𝐡𝐞𝐫𝐮𝐝𝐚𝐃𝐜𝐩𝐭𝐢𝐨𝐧Ƅᴨןᑯ໐ΤᏧ௦Іᴑ܁𝐬𝐰𝐲𝐛𝐦𝐯𝐑𝐙𝐣𝐇𝐂𝐘𝟎ԜТᗞ౦〔Ꭻ𝐳𝐔𝐱𝟔𝟓𝐅🐋ﬃ💘💓ё𝘥𝘯𝘶💐🌋🌄🌅𝙬𝙖𝙨𝙤𝙣𝙡𝙮𝙘𝙠𝙚𝙙𝙜𝙧𝙥𝙩𝙪𝙗𝙞𝙝𝙛👺🐷ℋ𝐀𝐥𝐪🚶𝙢Ἱ🤘ͦ💸ج패티Ｗ𝙇ᵻ👂👃ɜ🎫\\uf0a7БУі🚢🚂ગુજરાતીῆ🏃𝓬𝓻𝓴𝓮𝓽𝓼☘﴾̯﴿₽\\ue807𝑻𝒆𝒍𝒕𝒉𝒓𝒖𝒂𝒏𝒅𝒔𝒎𝒗𝒊👽😙\\u200cЛ‒🎾👹⎌🏒⛸公寓养宠物吗🏄🐀🚑🤷操美𝒑𝒚𝒐𝑴🤙🐒欢迎来到阿拉斯ספ𝙫🐈𝒌𝙊𝙭𝙆𝙋𝙍𝘼𝙅ﷻ🦄巨收赢得白鬼愤怒要买额ẽ🚗🐳𝟏𝐟𝟖𝟑𝟕𝒄𝟗𝐠𝙄𝙃👇锟斤拷𝗢𝟳𝟱𝟬⦁マルハニチロ株式社⛷한국어ㄸㅓ니͜ʖ𝘿𝙔₵𝒩ℯ𝒾𝓁𝒶𝓉𝓇𝓊𝓃𝓈𝓅ℴ𝒻𝒽𝓀𝓌𝒸𝓎𝙏ζ𝙟𝘃𝗺𝟮𝟭𝟯𝟲👋🦊多伦🐽🎻🎹⛓🏹🍷🦆为和中友谊祝贺与其想象对法如直接问用自己猜本传教士没积唯认识基督徒曾经让相信耶稣复活死怪他但当们聊些政治题时候战胜因圣把全堂结婚孩恐惧且栗谓这样还♾🎸🤕🤒⛑🎁批判检讨🏝🦁🙋😶쥐스탱트뤼도석유가격인상이경제황을렵게만들지않록잘관리해야합다캐나에서대마초와화약금의품런성분갈때는반드시허된사용🔫👁凸ὰ💲🗯𝙈Ἄ𝒇𝒈𝒘𝒃𝑬𝑶𝕾𝖙𝖗𝖆𝖎𝖌𝖍𝖕𝖊𝖔𝖑𝖉𝖓𝖐𝖜𝖞𝖚𝖇𝕿𝖘𝖄𝖛𝖒𝖋𝖂𝕴𝖟𝖈𝕸👑🚿💡知彼百\\uf005𝙀𝒛𝑲𝑳𝑾𝒋𝟒😦𝙒𝘾𝘽🏐𝘩𝘨ὼṑ𝑱𝑹𝑫𝑵𝑪🇰🇵👾ᓇᒧᔭᐃᐧᐦᑳᐨᓃᓂᑲᐸᑭᑎᓀᐣ🐄🎈🔨🐎🤞🐸💟🎰🌝🛳点击查版🍭𝑥𝑦𝑧ＮＧ👣\\uf020っ🏉ф💭🎥Ξ🐴👨🤳🦍\\x0b🍩𝑯𝒒😗𝟐🏂👳🍗🕉🐲چی𝑮𝗕𝗴🍒ꜥⲣⲏ🐑⏰鉄リ事件ї💊「」\\uf203\\uf09a\\uf222\\ue608\\uf202\\uf099\\uf469\\ue607\\uf410\\ue600燻製シ虚偽屁理屈Г𝑩𝑰𝒀𝑺🌤𝗳𝗜𝗙𝗦𝗧🍊ὺἈἡχῖΛ⤏🇳𝒙ψՁմեռայինրւդձ冬至ὀ𝒁🔹🤚🍎𝑷🐂💅𝘬𝘱𝘸𝘷𝘐𝘭𝘓𝘖𝘹𝘲𝘫کΒώ💢ΜΟΝΑΕ🇱♲𝝈↴💒⊘Ȼ🚴🖕🖤🥘📍👈➕🚫🎨🌑🐻𝐎𝐍𝐊𝑭🤖🎎😼🕷ｇｒｎｔｉｄｕｆｂｋ𝟰🇴🇭🇻🇲𝗞𝗭𝗘𝗤👼📉🍟🍦🌈🔭《🐊🐍\\uf10aლڡ🐦\\U0001f92f\\U0001f92a🐡💳ἱ🙇𝗸𝗟𝗠𝗷🥜さようなら🔼'"
      ],
      "execution_count": 0,
      "outputs": []
    },
    {
      "cell_type": "code",
      "metadata": {
        "trusted": true,
        "id": "fsSkYEB2ZIRr",
        "colab_type": "code",
        "colab": {}
      },
      "source": [
        "from nltk.tokenize.treebank import TreebankWordTokenizer\n",
        "def preprocess_data(train):\n",
        "    t1 = time.time()\n",
        "    \n",
        "    isolate_dict = {ord(c):f' {c} ' for c in symbols_to_isolate}\n",
        "    remove_dict = {ord(c):f'' for c in symbols_to_delete}\n",
        "    \n",
        "\n",
        "    def handle_punctuation(x):\n",
        "        x = x.translate(remove_dict)\n",
        "        x = x.translate(isolate_dict)\n",
        "        return x\n",
        "\n",
        "    train['statement'] = train['statement'].progress_apply(lambda x: handle_punctuation(x))\n",
        "    train['justification'] = train['justification'].progress_apply(lambda x: handle_punctuation(x))\n",
        "    \n",
        "    tokenizer = TreebankWordTokenizer()\n",
        "    def handle_contractions(x):\n",
        "        x = tokenizer.tokenize(x)\n",
        "        x = ' '.join(x)\n",
        "        return x\n",
        "\n",
        "    train['statement'] = train['statement'].progress_apply(lambda x:handle_contractions(x))\n",
        "    train['justification'] = train['justification'].progress_apply(lambda x:handle_contractions(x))\n",
        "    def fix_quote(x):\n",
        "        x = [x_[1:] if x_.startswith(\"'\") else x_ for x_ in x]\n",
        "        x = ' '.join(x)\n",
        "        return x\n",
        "\n",
        "    train['statement'] = train['statement'].progress_apply(lambda x:fix_quote(x.split()))\n",
        "    train['justification'] = train['justification'].progress_apply(lambda x:fix_quote(x.split()))\n",
        "    \n",
        "    print(f'Preprocess took {time.time() - t1}')\n",
        "    return train"
      ],
      "execution_count": 0,
      "outputs": []
    },
    {
      "cell_type": "code",
      "metadata": {
        "trusted": true,
        "id": "36qQproPZIRw",
        "colab_type": "code",
        "colab": {
          "base_uri": "https://localhost:8080/",
          "height": 139
        },
        "outputId": "5dc57fe8-fe31-46d9-f3b3-2ac87da10962"
      },
      "source": [
        "data = preprocess_data(data)"
      ],
      "execution_count": 50,
      "outputs": [
        {
          "output_type": "stream",
          "text": [
            "100%|██████████| 12791/12791 [00:00<00:00, 86686.11it/s]\n",
            "100%|██████████| 12791/12791 [00:00<00:00, 23383.03it/s]\n",
            "100%|██████████| 12791/12791 [00:01<00:00, 7248.48it/s]\n",
            "100%|██████████| 12791/12791 [00:04<00:00, 2613.97it/s]\n",
            "100%|██████████| 12791/12791 [00:00<00:00, 124297.05it/s]\n",
            "100%|██████████| 12791/12791 [00:00<00:00, 38964.85it/s]"
          ],
          "name": "stderr"
        },
        {
          "output_type": "stream",
          "text": [
            "Preprocess took 7.824900388717651\n"
          ],
          "name": "stdout"
        },
        {
          "output_type": "stream",
          "text": [
            "\n"
          ],
          "name": "stderr"
        }
      ]
    },
    {
      "cell_type": "code",
      "metadata": {
        "trusted": true,
        "id": "DsvEzmRPZIR0",
        "colab_type": "code",
        "colab": {
          "base_uri": "https://localhost:8080/",
          "height": 260
        },
        "outputId": "bdec041f-f157-42aa-bf1f-dfc4302f014e"
      },
      "source": [
        "vocab_statement = build_vocab(list(data['statement'].apply(lambda x:x.split())))\n",
        "oov_statement = check_coverage(vocab_statement,crawl_embeddings)\n",
        "oov_statement[:10]"
      ],
      "execution_count": 51,
      "outputs": [
        {
          "output_type": "stream",
          "text": [
            "100%|██████████| 12791/12791 [00:00<00:00, 153648.20it/s]\n",
            "100%|██████████| 15424/15424 [00:00<00:00, 705338.53it/s]"
          ],
          "name": "stderr"
        },
        {
          "output_type": "stream",
          "text": [
            "Found embeddings for 95.96% of vocab\n",
            "Found embeddings for  99.27% of all text\n"
          ],
          "name": "stdout"
        },
        {
          "output_type": "stream",
          "text": [
            "\n"
          ],
          "name": "stderr"
        },
        {
          "output_type": "execute_result",
          "data": {
            "text/plain": [
              "[('``', 1108),\n",
              " (\"n't\", 149),\n",
              " ('jsonmostly', 12),\n",
              " ('jsonhalf', 11),\n",
              " ('Kasichs', 11),\n",
              " ('trueSays', 5),\n",
              " ('Crists', 5),\n",
              " ('jsonbarely', 5),\n",
              " ('Cornilles', 5),\n",
              " ('jsontrueSays', 4)]"
            ]
          },
          "metadata": {
            "tags": []
          },
          "execution_count": 51
        }
      ]
    },
    {
      "cell_type": "code",
      "metadata": {
        "trusted": true,
        "id": "rs9xUqfbZIR4",
        "colab_type": "code",
        "colab": {
          "base_uri": "https://localhost:8080/",
          "height": 260
        },
        "outputId": "b16c1da8-2811-4958-b845-4cdd756445ab"
      },
      "source": [
        "vocab_justification = build_vocab(list(data['justification'].apply(lambda x:x.split())))\n",
        "oov_justification = check_coverage(vocab_justification,crawl_embeddings)\n",
        "oov_justification[:10]"
      ],
      "execution_count": 52,
      "outputs": [
        {
          "output_type": "stream",
          "text": [
            "100%|██████████| 12791/12791 [00:00<00:00, 42094.95it/s]\n",
            "100%|██████████| 28976/28976 [00:00<00:00, 740917.34it/s]"
          ],
          "name": "stderr"
        },
        {
          "output_type": "stream",
          "text": [
            "Found embeddings for 94.77% of vocab\n",
            "Found embeddings for  97.79% of all text\n"
          ],
          "name": "stdout"
        },
        {
          "output_type": "stream",
          "text": [
            "\n"
          ],
          "name": "stderr"
        },
        {
          "output_type": "execute_result",
          "data": {
            "text/plain": [
              "[('``', 19018),\n",
              " (\"n't\", 1588),\n",
              " ('sharethefacts', 556),\n",
              " ('PolitiFactRI', 115),\n",
              " ('2196f3', 55),\n",
              " ('politifactri', 37),\n",
              " ('Kasichs', 34),\n",
              " ('_', 33),\n",
              " ('McAuliffes', 27),\n",
              " ('Gingrichs', 26)]"
            ]
          },
          "metadata": {
            "tags": []
          },
          "execution_count": 52
        }
      ]
    },
    {
      "cell_type": "markdown",
      "metadata": {
        "id": "3n4mgI4zZIR7",
        "colab_type": "text"
      },
      "source": [
        "### Data preprocessing"
      ]
    },
    {
      "cell_type": "code",
      "metadata": {
        "trusted": true,
        "id": "JMd88EEHZIR9",
        "colab_type": "code",
        "colab": {}
      },
      "source": [
        "from sklearn.preprocessing import LabelEncoder\n",
        "COLUMNS_TO_PROCESS = ['subject', 'speaker', 'speakers_job', 'state_info', 'party_aff', 'context']\n",
        "\n",
        "def preprocess(d):\n",
        "    data = d.copy()\n",
        "    lc = LabelEncoder()\n",
        "    for col in COLUMNS_TO_PROCESS:\n",
        "        data[col] = data[col].fillna('Other')\n",
        "        col_dict = data[col].value_counts()\n",
        "        data[col].apply(lambda x: x if col_dict[x] > np.percentile(col_dict.values, BASIC_FEAT_PERCENTILE) else 'Other')\n",
        "        data[col] = lc.fit_transform(data[col])\n",
        "    return data\n",
        "data = preprocess(data)"
      ],
      "execution_count": 0,
      "outputs": []
    },
    {
      "cell_type": "code",
      "metadata": {
        "trusted": true,
        "id": "bT-HQtZ6ZISA",
        "colab_type": "code",
        "colab": {}
      },
      "source": [
        "from sklearn.model_selection import train_test_split\n",
        "label_dict = {\n",
        "    'half-true': 2,\n",
        "    'false': 1,\n",
        "    'mostly-true': 4,\n",
        "    'true': 5,\n",
        "    'barely-true': 3,\n",
        "    'pants-fire': 0\n",
        "}\n",
        "\n",
        "try:\n",
        "    data = data.drop(columns = 'id')\n",
        "except:\n",
        "    pass\n",
        "data['label'] = data['label'].map(label_dict)\n",
        "tr, vl, te = data.iloc[train.index, :], data.iloc[train.index[-1] + valid.index, :], data.iloc[train.index[-1] + valid.index[-1] + test.index, :]"
      ],
      "execution_count": 0,
      "outputs": []
    },
    {
      "cell_type": "code",
      "metadata": {
        "trusted": true,
        "id": "w6O92lIMZISD",
        "colab_type": "code",
        "colab": {}
      },
      "source": [
        "tr_st, tr_justi, tr_add, tr_label = tr['statement'], tr['justification'], tr.loc[:, 'subject': 'context'], tr.loc[:, 'binary_label']\n",
        "val_st, val_justi, val_add, val_label = vl['statement'], vl['justification'], vl.loc[:, 'subject': 'context'], vl.loc[:, 'binary_label']\n",
        "te_st, te_justi, te_add, te_label = te['statement'], te['justification'], te.loc[:, 'subject': 'context'], te.loc[:, 'binary_label']"
      ],
      "execution_count": 0,
      "outputs": []
    },
    {
      "cell_type": "markdown",
      "metadata": {
        "id": "mHCRBZyxZISH",
        "colab_type": "text"
      },
      "source": [
        "### Build model"
      ]
    },
    {
      "cell_type": "code",
      "metadata": {
        "trusted": true,
        "id": "x-Z0WTq1ZISI",
        "colab_type": "code",
        "colab": {}
      },
      "source": [
        "from keras.preprocessing import text, sequence\n",
        "max_features = 400000\n",
        "MAX_LEN = 300\n",
        "tokenizer = text.Tokenizer(num_words = max_features, filters='', lower=False)\n",
        "vals_to_tokenize = list(tr_st) + list(tr_justi) + list(val_st) + list(val_justi) + list(te_st) + list(te_justi)\n",
        "tokenizer.fit_on_texts(vals_to_tokenize)\n",
        "\n",
        "tr_st = tokenizer.texts_to_sequences(tr_st)\n",
        "tr_justi = tokenizer.texts_to_sequences(tr_justi)\n",
        "val_st = tokenizer.texts_to_sequences(val_st)\n",
        "val_justi = tokenizer.texts_to_sequences(val_justi)\n",
        "te_st = tokenizer.texts_to_sequences(te_st)\n",
        "te_justi = tokenizer.texts_to_sequences(te_justi)\n",
        "\n",
        "tr_st = sequence.pad_sequences(tr_st, maxlen=MAX_LEN)\n",
        "tr_justi = sequence.pad_sequences(tr_justi, maxlen=MAX_LEN)\n",
        "val_st = sequence.pad_sequences(val_st, maxlen=MAX_LEN)\n",
        "val_justi = sequence.pad_sequences(val_justi, maxlen=MAX_LEN)\n",
        "te_st = sequence.pad_sequences(te_st, maxlen=MAX_LEN)\n",
        "te_justi = sequence.pad_sequences(te_justi, maxlen=MAX_LEN)"
      ],
      "execution_count": 0,
      "outputs": []
    },
    {
      "cell_type": "code",
      "metadata": {
        "trusted": true,
        "id": "hQPDspAwZISL",
        "colab_type": "code",
        "colab": {
          "base_uri": "https://localhost:8080/",
          "height": 52
        },
        "outputId": "0d748fa5-df86-4c57-e9ab-f63a21e54704"
      },
      "source": [
        "import gc\n",
        "# get embeddings\n",
        "crawl_matrix, unknown_words_crawl = build_matrix(tokenizer.word_index, CRAWL_EMBEDDING_PATH)\n",
        "print('n unknown words (crawl): ', len(unknown_words_crawl))\n",
        "\n",
        "max_features = max_features or len(tokenizer.word_index) + 1\n",
        "gc.collect()"
      ],
      "execution_count": 57,
      "outputs": [
        {
          "output_type": "stream",
          "text": [
            "n unknown words (crawl):  2044\n"
          ],
          "name": "stdout"
        },
        {
          "output_type": "execute_result",
          "data": {
            "text/plain": [
              "42"
            ]
          },
          "metadata": {
            "tags": []
          },
          "execution_count": 57
        }
      ]
    },
    {
      "cell_type": "code",
      "metadata": {
        "trusted": true,
        "id": "OcoA96Y_ZISP",
        "colab_type": "code",
        "colab": {}
      },
      "source": [
        "from keras.models import Model\n",
        "from keras.layers import Input, Dense, Embedding, SpatialDropout1D, add, concatenate\n",
        "from keras.layers import CuDNNLSTM, Bidirectional, GlobalMaxPooling1D, GlobalAveragePooling1D\n",
        "from keras.preprocessing import text, sequence\n",
        "from keras.metrics import binary_accuracy\n",
        "from keras.callbacks import LearningRateScheduler, ModelCheckpoint, EarlyStopping\n",
        "\n",
        "LSTM_UNITS = 128\n",
        "DENSE_HIDDEN_UNITS = 4 * LSTM_UNITS\n",
        "\n",
        "def build_model(embedding_matrix, normal_feats_shape = 11):\n",
        "    # ----------- Statements network input\n",
        "    statements = Input(shape=(None,))\n",
        "    \n",
        "    x1 = Embedding(*embedding_matrix.shape, weights=[embedding_matrix], trainable=False)(statements)\n",
        "    # x1 = SpatialDropout1D(0.2)(x1)\n",
        "    # x1 = Bidirectional(CuDNNLSTM(LSTM_UNITS, return_sequences=True))(x1)\n",
        "    x1 = Bidirectional(CuDNNLSTM(LSTM_UNITS, return_sequences=True))(x1)\n",
        "    \n",
        "    hidden1 = concatenate([\n",
        "        GlobalMaxPooling1D()(x1),\n",
        "        GlobalAveragePooling1D()(x1),\n",
        "    ])\n",
        "    \n",
        "    hidden1 = add([hidden1, Dense(DENSE_HIDDEN_UNITS, activation='relu')(hidden1)])\n",
        "    hidden1 = add([hidden1, Dense(DENSE_HIDDEN_UNITS, activation='relu')(hidden1)])\n",
        "    \n",
        "    # ----------- Justifications network input\n",
        "    \n",
        "    justifications = Input(shape = (None, ))\n",
        "    \n",
        "    x2 = Embedding(*embedding_matrix.shape, weights=[embedding_matrix], trainable=False)(justifications)\n",
        "    x2 = SpatialDropout1D(0.2)(x2)\n",
        "    x2 = Bidirectional(CuDNNLSTM(LSTM_UNITS, return_sequences=True))(x2)\n",
        "    x2 = Bidirectional(CuDNNLSTM(LSTM_UNITS, return_sequences=True))(x2)\n",
        "    \n",
        "    hidden2 = concatenate([\n",
        "        GlobalMaxPooling1D()(x2),\n",
        "        GlobalAveragePooling1D()(x2),\n",
        "    ])\n",
        "    \n",
        "    hidden2 = add([hidden2, Dense(DENSE_HIDDEN_UNITS, activation='relu')(hidden2)])\n",
        "    hidden2 = add([hidden2, Dense(DENSE_HIDDEN_UNITS, activation='relu')(hidden2)])\n",
        "    \n",
        "    # ------------------- Other features network input\n",
        "    \n",
        "    norm_input = Input(shape = (normal_feats_shape, ))\n",
        "    x3 = Dense(8, activation = 'sigmoid')(norm_input)\n",
        "    \n",
        "    # ------- Connecting all 3 branches in one\n",
        "    \n",
        "    hidden = concatenate([hidden1, hidden2, x3])\n",
        "    result = Dense(1, activation='sigmoid')(hidden)\n",
        "    \n",
        "    model = Model(inputs=[statements, justifications, norm_input], outputs=[result])\n",
        "    model.compile(loss='binary_crossentropy', optimizer='adam', metrics = [binary_accuracy])\n",
        "\n",
        "    return model"
      ],
      "execution_count": 0,
      "outputs": []
    },
    {
      "cell_type": "code",
      "metadata": {
        "trusted": true,
        "id": "wQaSuiKjZIST",
        "colab_type": "code",
        "colab": {
          "base_uri": "https://localhost:8080/",
          "height": 677
        },
        "outputId": "e6bd0838-f4b8-4b42-c383-ae5a9efedb3f"
      },
      "source": [
        "model = build_model(crawl_matrix)\n",
        "\n",
        "from keras.callbacks import ModelCheckpoint, EarlyStopping\n",
        "\n",
        "checkpointer = ModelCheckpoint(filepath='binary.h5', verbose = 1, save_best_only=True)\n",
        "stop = EarlyStopping(monitor='val_loss', patience=15, verbose=1, mode='min')\n",
        "\n",
        "model.fit(\n",
        "            [tr_st, tr_justi, tr_add],\n",
        "            [tr_label],\n",
        "            batch_size=BATCH_SIZE,\n",
        "            validation_data = ([val_st, val_justi, val_add], val_label),\n",
        "            epochs=9,\n",
        "            verbose=1,\n",
        "            callbacks=[checkpointer, stop]\n",
        "        )"
      ],
      "execution_count": 59,
      "outputs": [
        {
          "output_type": "stream",
          "text": [
            "Train on 10240 samples, validate on 1284 samples\n",
            "Epoch 1/9\n",
            "10240/10240 [==============================] - 30s 3ms/step - loss: 0.7014 - binary_accuracy: 0.5299 - val_loss: 0.6762 - val_binary_accuracy: 0.5864\n",
            "\n",
            "Epoch 00001: val_loss improved from inf to 0.67625, saving model to binary.h5\n",
            "Epoch 2/9\n",
            "10240/10240 [==============================] - 28s 3ms/step - loss: 0.6708 - binary_accuracy: 0.5889 - val_loss: 0.6672 - val_binary_accuracy: 0.5958\n",
            "\n",
            "Epoch 00002: val_loss improved from 0.67625 to 0.66718, saving model to binary.h5\n",
            "Epoch 3/9\n",
            "10240/10240 [==============================] - 28s 3ms/step - loss: 0.6420 - binary_accuracy: 0.6323 - val_loss: 0.7057 - val_binary_accuracy: 0.5522\n",
            "\n",
            "Epoch 00003: val_loss did not improve from 0.66718\n",
            "Epoch 4/9\n",
            "10240/10240 [==============================] - 28s 3ms/step - loss: 0.5775 - binary_accuracy: 0.7039 - val_loss: 0.7110 - val_binary_accuracy: 0.5826\n",
            "\n",
            "Epoch 00004: val_loss did not improve from 0.66718\n",
            "Epoch 5/9\n",
            "10240/10240 [==============================] - 28s 3ms/step - loss: 0.4438 - binary_accuracy: 0.7994 - val_loss: 0.8379 - val_binary_accuracy: 0.5623\n",
            "\n",
            "Epoch 00005: val_loss did not improve from 0.66718\n",
            "Epoch 6/9\n",
            "10240/10240 [==============================] - 28s 3ms/step - loss: 0.2704 - binary_accuracy: 0.8973 - val_loss: 0.9869 - val_binary_accuracy: 0.5569\n",
            "\n",
            "Epoch 00006: val_loss did not improve from 0.66718\n",
            "Epoch 7/9\n",
            "10240/10240 [==============================] - 28s 3ms/step - loss: 0.1180 - binary_accuracy: 0.9666 - val_loss: 1.2516 - val_binary_accuracy: 0.5662\n",
            "\n",
            "Epoch 00007: val_loss did not improve from 0.66718\n",
            "Epoch 8/9\n",
            "10240/10240 [==============================] - 28s 3ms/step - loss: 0.0464 - binary_accuracy: 0.9913 - val_loss: 1.4601 - val_binary_accuracy: 0.5576\n",
            "\n",
            "Epoch 00008: val_loss did not improve from 0.66718\n",
            "Epoch 9/9\n",
            "10240/10240 [==============================] - 28s 3ms/step - loss: 0.0196 - binary_accuracy: 0.9979 - val_loss: 1.6804 - val_binary_accuracy: 0.5405\n",
            "\n",
            "Epoch 00009: val_loss did not improve from 0.66718\n"
          ],
          "name": "stdout"
        },
        {
          "output_type": "execute_result",
          "data": {
            "text/plain": [
              "<keras.callbacks.History at 0x7f6df3a6d2b0>"
            ]
          },
          "metadata": {
            "tags": []
          },
          "execution_count": 59
        }
      ]
    },
    {
      "cell_type": "code",
      "metadata": {
        "id": "KQ-oMYm2tDHA",
        "colab_type": "code",
        "colab": {}
      },
      "source": [
        "model_json = model.to_json()\n",
        "with open(\"binary.json\", \"w\") as json_file:\n",
        "    json_file.write(model_json)"
      ],
      "execution_count": 0,
      "outputs": []
    },
    {
      "cell_type": "code",
      "metadata": {
        "trusted": true,
        "id": "gpY5DvZFZISX",
        "colab_type": "code",
        "colab": {
          "base_uri": "https://localhost:8080/",
          "height": 52
        },
        "outputId": "f462968e-f230-4438-d15e-16b46dc19701"
      },
      "source": [
        "from sklearn.metrics import roc_auc_score, accuracy_score\n",
        "THRESH = 0.95\n",
        "test_preds = model.predict([te_st, te_justi, te_add]).reshape(-1)\n",
        "\n",
        "print('ROC AUC {}'.format(roc_auc_score(te_label, test_preds)))\n",
        "print('Accuracy {}'.format(accuracy_score(te_label, test_preds > THRESH)))"
      ],
      "execution_count": 65,
      "outputs": [
        {
          "output_type": "stream",
          "text": [
            "ROC AUC 0.5780944962877528\n",
            "Accuracy 0.5335438042620363\n"
          ],
          "name": "stdout"
        }
      ]
    },
    {
      "cell_type": "code",
      "metadata": {
        "id": "enTQYte2ym5I",
        "colab_type": "code",
        "colab": {}
      },
      "source": [
        ""
      ],
      "execution_count": 0,
      "outputs": []
    }
  ]
}