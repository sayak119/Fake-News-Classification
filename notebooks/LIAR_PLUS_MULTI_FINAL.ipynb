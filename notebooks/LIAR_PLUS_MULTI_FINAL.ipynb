{
  "nbformat": 4,
  "nbformat_minor": 0,
  "metadata": {
    "kernelspec": {
      "name": "python3",
      "display_name": "Python 3"
    },
    "language_info": {
      "pygments_lexer": "ipython3",
      "nbconvert_exporter": "python",
      "version": "3.6.4",
      "file_extension": ".py",
      "codemirror_mode": {
        "name": "ipython",
        "version": 3
      },
      "name": "python",
      "mimetype": "text/x-python"
    },
    "colab": {
      "name": "LIAR PLUS MULTI FINAL.ipynb",
      "version": "0.3.2",
      "provenance": [],
      "toc_visible": true
    },
    "accelerator": "GPU"
  },
  "cells": [
    {
      "cell_type": "code",
      "metadata": {
        "id": "d-NPe5eUWhBL",
        "colab_type": "code",
        "colab": {}
      },
      "source": [
        "!mkdir kaggle"
      ],
      "execution_count": 0,
      "outputs": []
    },
    {
      "cell_type": "code",
      "metadata": {
        "id": "9KMriRX-Wh8F",
        "colab_type": "code",
        "colab": {
          "base_uri": "https://localhost:8080/",
          "height": 208
        },
        "outputId": "b3822c27-7ebb-4426-dd05-1e59ec1568df"
      },
      "source": [
        "!pip install kaggle"
      ],
      "execution_count": 2,
      "outputs": [
        {
          "output_type": "stream",
          "text": [
            "Requirement already satisfied: kaggle in /usr/local/lib/python3.6/dist-packages (1.5.5)\n",
            "Requirement already satisfied: certifi in /usr/local/lib/python3.6/dist-packages (from kaggle) (2019.6.16)\n",
            "Requirement already satisfied: requests in /usr/local/lib/python3.6/dist-packages (from kaggle) (2.21.0)\n",
            "Requirement already satisfied: python-dateutil in /usr/local/lib/python3.6/dist-packages (from kaggle) (2.5.3)\n",
            "Requirement already satisfied: urllib3<1.25,>=1.21.1 in /usr/local/lib/python3.6/dist-packages (from kaggle) (1.24.3)\n",
            "Requirement already satisfied: python-slugify in /usr/local/lib/python3.6/dist-packages (from kaggle) (3.0.3)\n",
            "Requirement already satisfied: tqdm in /usr/local/lib/python3.6/dist-packages (from kaggle) (4.28.1)\n",
            "Requirement already satisfied: six>=1.10 in /usr/local/lib/python3.6/dist-packages (from kaggle) (1.12.0)\n",
            "Requirement already satisfied: chardet<3.1.0,>=3.0.2 in /usr/local/lib/python3.6/dist-packages (from requests->kaggle) (3.0.4)\n",
            "Requirement already satisfied: idna<2.9,>=2.5 in /usr/local/lib/python3.6/dist-packages (from requests->kaggle) (2.8)\n",
            "Requirement already satisfied: text-unidecode==1.2 in /usr/local/lib/python3.6/dist-packages (from python-slugify->kaggle) (1.2)\n"
          ],
          "name": "stdout"
        }
      ]
    },
    {
      "cell_type": "code",
      "metadata": {
        "id": "4784gxfpWiDD",
        "colab_type": "code",
        "colab": {}
      },
      "source": [
        "import os\n",
        "os.chdir('../root')"
      ],
      "execution_count": 0,
      "outputs": []
    },
    {
      "cell_type": "code",
      "metadata": {
        "id": "hTrEyzb2WiHe",
        "colab_type": "code",
        "colab": {}
      },
      "source": [
        "!mkdir .kaggle"
      ],
      "execution_count": 0,
      "outputs": []
    },
    {
      "cell_type": "code",
      "metadata": {
        "id": "7pU8_1H3WiMQ",
        "colab_type": "code",
        "colab": {}
      },
      "source": [
        "os.chdir('.kaggle')"
      ],
      "execution_count": 0,
      "outputs": []
    },
    {
      "cell_type": "code",
      "metadata": {
        "id": "PiOBkklWWiSM",
        "colab_type": "code",
        "colab": {}
      },
      "source": [
        "import json\n",
        "token ={\"username\":\"\",\"key\":\"\"}\n",
        "with open('kaggle.json', 'w') as file:\n",
        "    json.dump(token, file)"
      ],
      "execution_count": 0,
      "outputs": []
    },
    {
      "cell_type": "code",
      "metadata": {
        "id": "jl1h0EDYWiUh",
        "colab_type": "code",
        "colab": {}
      },
      "source": [
        "!chmod 600 kaggle.json"
      ],
      "execution_count": 0,
      "outputs": []
    },
    {
      "cell_type": "code",
      "metadata": {
        "id": "teYk894HWibt",
        "colab_type": "code",
        "colab": {
          "base_uri": "https://localhost:8080/",
          "height": 399
        },
        "outputId": "736a7c81-7aee-42c3-9d04-8e8b582e3439"
      },
      "source": [
        "!kaggle datasets list"
      ],
      "execution_count": 8,
      "outputs": [
        {
          "output_type": "stream",
          "text": [
            "ref                                                         title                                                size  lastUpdated          downloadCount  \n",
            "----------------------------------------------------------  --------------------------------------------------  -----  -------------------  -------------  \n",
            "new-york-state/nys-environmental-remediation-sites          NYS Environmental Remediation Sites                   6MB  2019-08-09 08:27:31           2129  \n",
            "eliasdabbas/search-engine-results-flights-tickets-keywords  Search Engine Results - Flights & Tickets Keywords   22MB  2019-08-01 11:51:13           1565  \n",
            "google/google-landmarks-dataset                             Google-Landmarks Dataset                            107MB  2019-08-09 12:00:27          10831  \n",
            "new-york-city/new-york-city-current-job-postings            New York City Current Job Postings                    3MB  2019-08-04 22:04:44           6265  \n",
            "AnalyzeBoston/crimes-in-boston                              Crimes in Boston                                     10MB  2018-09-04 17:56:03           7134  \n",
            "jealousleopard/goodreadsbooks                               Goodreads-books                                     632KB  2019-06-14 16:35:05           7256  \n",
            "sudalairajkumar/chennai-water-management                    Chennai Water Management                             75KB  2019-06-19 03:42:44           5358  \n",
            "wkirgsn/electric-motor-temperature                          Electric Motor Temperature                           47MB  2019-06-19 11:12:41           2774  \n",
            "matheusfreitag/gas-prices-in-brazil                         Gas Prices in Brazil                                  3MB  2019-07-12 16:23:52           4106  \n",
            "r3w0p4/recorded-crime-data-at-police-force-area-level       Recorded Crime Data at the Police Force Area Level  300KB  2019-06-21 15:16:46           1526  \n",
            "jolasa/waves-measuring-buoys-data-mooloolaba                Waves Measuring Buoys Data                          599KB  2019-07-07 16:59:44            761  \n",
            "doit-intl/autotel-shared-car-locations                      Shared Cars Locations                                78MB  2019-01-10 13:06:00            791  \n",
            "Madgrades/uw-madison-courses                                UW Madison Courses and Grades 2006-2017              90MB  2018-05-15 18:58:25           1186  \n",
            "r3w0p4/bournemouth-venues                                   Venues in Bournemouth                                 3KB  2019-07-08 14:26:48            541  \n",
            "datafiniti/womens-shoes-prices                              Women's Shoe Prices                                  12MB  2019-06-24 22:50:14           9716  \n",
            "university-of-edinburgh/peace-agreements-dataset            Peace Agreements Dataset                              1MB  2018-03-05 16:39:50            538  \n",
            "citizen-ds-ghana/health-facilities-gh                       Ghana Health Facilities                              84KB  2018-09-03 01:19:24            692  \n",
            "inIT-OWL/vega-shrinkwrapper-runtofailure-data               Vega shrink-wrapper component degradation           408KB  2018-11-12 13:03:43            233  \n",
            "datafiniti/pizza-restaurants-and-the-pizza-they-sell        Pizza Restaurants and the Pizza They Sell           850KB  2019-05-30 00:21:21           4556  \n",
            "citylines/city-lines                                        Transit systems of world                              3MB  2019-03-25 16:53:05           1600  \n"
          ],
          "name": "stdout"
        }
      ]
    },
    {
      "cell_type": "code",
      "metadata": {
        "id": "b8kducR5WijF",
        "colab_type": "code",
        "colab": {}
      },
      "source": [
        "os.chdir('../../content/kaggle')"
      ],
      "execution_count": 0,
      "outputs": []
    },
    {
      "cell_type": "code",
      "metadata": {
        "id": "616fOJYzXOqw",
        "colab_type": "code",
        "colab": {
          "base_uri": "https://localhost:8080/",
          "height": 69
        },
        "outputId": "251d5877-cfef-4999-96c3-47bf1984d0b2"
      },
      "source": [
        "!ls -la"
      ],
      "execution_count": 10,
      "outputs": [
        {
          "output_type": "stream",
          "text": [
            "total 8\n",
            "drwxr-xr-x 2 root root 4096 Aug  9 12:29 .\n",
            "drwxr-xr-x 1 root root 4096 Aug  9 12:29 ..\n"
          ],
          "name": "stdout"
        }
      ]
    },
    {
      "cell_type": "code",
      "metadata": {
        "id": "BqEMrPE7XOwu",
        "colab_type": "code",
        "colab": {
          "base_uri": "https://localhost:8080/",
          "height": 69
        },
        "outputId": "2047f495-2960-4b07-ee71-52cec78faaf7"
      },
      "source": [
        "!kaggle datasets download -d authman/pickled-crawl300d2m-for-kernel-competitions"
      ],
      "execution_count": 11,
      "outputs": [
        {
          "output_type": "stream",
          "text": [
            "Downloading pickled-crawl300d2m-for-kernel-competitions.zip to /content/kaggle\n",
            "100% 1.69G/1.69G [00:08<00:00, 233MB/s]\n",
            "100% 1.69G/1.69G [00:08<00:00, 206MB/s]\n"
          ],
          "name": "stdout"
        }
      ]
    },
    {
      "cell_type": "code",
      "metadata": {
        "id": "B_gF4kUdXOz-",
        "colab_type": "code",
        "colab": {
          "base_uri": "https://localhost:8080/",
          "height": 69
        },
        "outputId": "8daf7180-31cf-4a4e-bd7b-86869cc4dce4"
      },
      "source": [
        "!kaggle datasets download -d authman/pickled-glove840b300d-for-10sec-loading"
      ],
      "execution_count": 12,
      "outputs": [
        {
          "output_type": "stream",
          "text": [
            "Downloading pickled-glove840b300d-for-10sec-loading.zip to /content/kaggle\n",
            "100% 2.33G/2.33G [00:12<00:00, 201MB/s]\n",
            "100% 2.33G/2.33G [00:12<00:00, 201MB/s]\n"
          ],
          "name": "stdout"
        }
      ]
    },
    {
      "cell_type": "code",
      "metadata": {
        "id": "bZ6nqvINXO4W",
        "colab_type": "code",
        "colab": {
          "base_uri": "https://localhost:8080/",
          "height": 52
        },
        "outputId": "1e0aa037-2c7a-46b6-ab08-d474d9e4abbd"
      },
      "source": [
        "!unzip pickled-crawl300d2m-for-kernel-competitions.zip"
      ],
      "execution_count": 13,
      "outputs": [
        {
          "output_type": "stream",
          "text": [
            "Archive:  pickled-crawl300d2m-for-kernel-competitions.zip\n",
            "  inflating: crawl-300d-2M.pkl       \n"
          ],
          "name": "stdout"
        }
      ]
    },
    {
      "cell_type": "code",
      "metadata": {
        "id": "Q-iHVUwaXO8u",
        "colab_type": "code",
        "colab": {
          "base_uri": "https://localhost:8080/",
          "height": 52
        },
        "outputId": "fbf9f705-7964-486c-fc88-e6f737652d2d"
      },
      "source": [
        "!unzip pickled-glove840b300d-for-10sec-loading.zip"
      ],
      "execution_count": 14,
      "outputs": [
        {
          "output_type": "stream",
          "text": [
            "Archive:  pickled-glove840b300d-for-10sec-loading.zip\n",
            "  inflating: glove.840B.300d.pkl     \n"
          ],
          "name": "stdout"
        }
      ]
    },
    {
      "cell_type": "code",
      "metadata": {
        "id": "3U4ZtDlnXPBI",
        "colab_type": "code",
        "colab": {
          "base_uri": "https://localhost:8080/",
          "height": 121
        },
        "outputId": "6b70029c-1eb0-430d-e437-648cb459f29e"
      },
      "source": [
        "!git clone https://github.com/Tariq60/LIAR-PLUS.git"
      ],
      "execution_count": 15,
      "outputs": [
        {
          "output_type": "stream",
          "text": [
            "Cloning into 'LIAR-PLUS'...\n",
            "remote: Enumerating objects: 9, done.\u001b[K\n",
            "remote: Counting objects:  11% (1/9)\u001b[K\rremote: Counting objects:  22% (2/9)\u001b[K\rremote: Counting objects:  33% (3/9)\u001b[K\rremote: Counting objects:  44% (4/9)\u001b[K\rremote: Counting objects:  55% (5/9)\u001b[K\rremote: Counting objects:  66% (6/9)\u001b[K\rremote: Counting objects:  77% (7/9)\u001b[K\rremote: Counting objects:  88% (8/9)\u001b[K\rremote: Counting objects: 100% (9/9)\u001b[K\rremote: Counting objects: 100% (9/9), done.\u001b[K\n",
            "remote: Compressing objects: 100% (9/9), done.\u001b[K\n",
            "remote: Total 77 (delta 2), reused 0 (delta 0), pack-reused 68\u001b[K\n",
            "Unpacking objects: 100% (77/77), done.\n"
          ],
          "name": "stdout"
        }
      ]
    },
    {
      "cell_type": "code",
      "metadata": {
        "id": "qmjfkMmRXZXv",
        "colab_type": "code",
        "colab": {
          "base_uri": "https://localhost:8080/",
          "height": 208
        },
        "outputId": "5900ef13-52db-423c-b360-82d56d9fba67"
      },
      "source": [
        "!wget -c \"https://s3.amazonaws.com/dl4j-distribution/GoogleNews-vectors-negative300.bin.gz\""
      ],
      "execution_count": 16,
      "outputs": [
        {
          "output_type": "stream",
          "text": [
            "--2019-08-09 12:33:34--  https://s3.amazonaws.com/dl4j-distribution/GoogleNews-vectors-negative300.bin.gz\n",
            "Resolving s3.amazonaws.com (s3.amazonaws.com)... 52.217.37.150\n",
            "Connecting to s3.amazonaws.com (s3.amazonaws.com)|52.217.37.150|:443... connected.\n",
            "HTTP request sent, awaiting response... 200 OK\n",
            "Length: 1647046227 (1.5G) [application/x-gzip]\n",
            "Saving to: ‘GoogleNews-vectors-negative300.bin.gz’\n",
            "\n",
            "GoogleNews-vectors- 100%[===================>]   1.53G  70.9MB/s    in 24s     \n",
            "\n",
            "2019-08-09 12:33:59 (65.3 MB/s) - ‘GoogleNews-vectors-negative300.bin.gz’ saved [1647046227/1647046227]\n",
            "\n"
          ],
          "name": "stdout"
        }
      ]
    },
    {
      "cell_type": "code",
      "metadata": {
        "id": "ZbSBroAnXZce",
        "colab_type": "code",
        "colab": {}
      },
      "source": [
        "!gunzip GoogleNews-vectors-negative300.bin.gz"
      ],
      "execution_count": 0,
      "outputs": []
    },
    {
      "cell_type": "code",
      "metadata": {
        "id": "cCRXkTdcXZi1",
        "colab_type": "code",
        "colab": {}
      },
      "source": [
        "os.chdir('..')"
      ],
      "execution_count": 0,
      "outputs": []
    },
    {
      "cell_type": "code",
      "metadata": {
        "_uuid": "8f2839f25d086af736a60e9eeb907d3b93b6e0e5",
        "_cell_guid": "b1076dfc-b9ad-4769-8c92-a6c4dae69d19",
        "trusted": true,
        "id": "NOFefEcbWYta",
        "colab_type": "code",
        "colab": {}
      },
      "source": [
        "import pandas as pd \n",
        "import numpy as np\n",
        "import matplotlib.pyplot as plt\n",
        "import seaborn as sns\n",
        "\n",
        "from wordcloud import WordCloud, STOPWORDS\n",
        "from gensim.parsing.preprocessing import STOPWORDS\n",
        "import pickle\n",
        "from tqdm import tqdm\n",
        "tqdm.pandas()\n",
        "\n",
        "COLUMN_NAMES = ['id', 'label', 'statement', 'subject', 'speaker',\n",
        "               'speakers_job', 'state_info', 'party_aff', 'bt_cnt',\n",
        "               'f_cnt', 'ht_cnt', 'mt_cnt', 'pf_cnt', 'context',\n",
        "               'justification']\n",
        "\n",
        "BATCH_SIZE = 256\n",
        "\n",
        "GLOVE_EMBEDDING_PATH = 'kaggle/glove.840B.300d.pkl'\n",
        "CRAWL_EMBEDDING_PATH = 'kaggle/crawl-300d-2M.pkl'\n",
        "DATA_PATH = 'kaggle/LIAR-PLUS/'\n",
        "\n",
        "BASIC_FEAT_PERCENTILE = 95"
      ],
      "execution_count": 0,
      "outputs": []
    },
    {
      "cell_type": "code",
      "metadata": {
        "_uuid": "d629ff2d2480ee46fbb7e2d37f6b5fab8052498a",
        "_cell_guid": "79c7e3d0-c299-4dcb-8224-4455121ee9b0",
        "trusted": true,
        "id": "I35QFgHRWYtj",
        "colab_type": "code",
        "colab": {
          "base_uri": "https://localhost:8080/",
          "height": 121
        },
        "outputId": "5352bc40-593b-43b8-ae11-f5f9a6c41cdc"
      },
      "source": [
        "! ls -la"
      ],
      "execution_count": 43,
      "outputs": [
        {
          "output_type": "stream",
          "text": [
            "total 20\n",
            "drwxr-xr-x 1 root root 4096 Aug  9 12:29 .\n",
            "drwxr-xr-x 1 root root 4096 Aug  9 12:27 ..\n",
            "drwxr-xr-x 1 root root 4096 Aug  7 16:05 .config\n",
            "drwxr-xr-x 3 root root 4096 Aug  9 12:34 kaggle\n",
            "drwxr-xr-x 1 root root 4096 Aug  2 16:06 sample_data\n"
          ],
          "name": "stdout"
        }
      ]
    },
    {
      "cell_type": "code",
      "metadata": {
        "trusted": true,
        "id": "B3KOEFQXWYtq",
        "colab_type": "code",
        "colab": {
          "base_uri": "https://localhost:8080/",
          "height": 52
        },
        "outputId": "494b17cf-1e9d-48f0-8a29-58310bc438e0"
      },
      "source": [
        "train = pd.read_csv(DATA_PATH + 'dataset/train2.tsv', sep = '\\t', names = COLUMN_NAMES)\n",
        "test = pd.read_csv(DATA_PATH + 'dataset/test2.tsv', sep = '\\t', names = COLUMN_NAMES)\n",
        "valid = pd.read_csv(DATA_PATH + 'dataset/val2.tsv', sep = '\\t', names = COLUMN_NAMES)\n",
        "\n",
        "train['justification'].fillna('Empty', inplace = True)\n",
        "test['justification'].fillna('Empty', inplace = True)\n",
        "valid['justification'].fillna('Empty', inplace = True)\n",
        "print(train.shape, test.shape, valid.shape)\n",
        "data = pd.DataFrame(np.vstack([train.values, valid.values, test.values]), columns = COLUMN_NAMES)\n",
        "print(data.shape)"
      ],
      "execution_count": 44,
      "outputs": [
        {
          "output_type": "stream",
          "text": [
            "(10240, 15) (1267, 15) (1284, 15)\n",
            "(12791, 15)\n"
          ],
          "name": "stdout"
        }
      ]
    },
    {
      "cell_type": "code",
      "metadata": {
        "trusted": true,
        "id": "KGIY-dpMWYtv",
        "colab_type": "code",
        "colab": {}
      },
      "source": [
        "# Binary label translation\n",
        "label_dict = {\n",
        "    'half-true': 0,\n",
        "    'false': 0,\n",
        "    'mostly-true': 1,\n",
        "    'true': 1,\n",
        "    'barely-true': 1,\n",
        "    'pants-fire': 0\n",
        "}\n",
        "\n",
        "data['binary_label'] = data['label'].map(label_dict)"
      ],
      "execution_count": 0,
      "outputs": []
    },
    {
      "cell_type": "code",
      "metadata": {
        "trusted": true,
        "id": "3O9_vvuCWYt0",
        "colab_type": "code",
        "colab": {}
      },
      "source": [
        "for index, value in enumerate(data['label']):\n",
        "    if value == 'pants-fire':\n",
        "        data.loc[index, 'pf_cnt'] -= 1\n",
        "    elif value == 'false':\n",
        "        data.loc[index, 'f_cnt'] -= 1\n",
        "    elif value == 'half-true':\n",
        "        data.loc[index, 'ht_cnt'] -= 1\n",
        "    elif value == 'barely-true':\n",
        "        data.loc[index, 'bt_cnt'] -= 1\n",
        "    elif value == 'mostly-true':\n",
        "        data.loc[index, 'mt_cnt'] -= 1"
      ],
      "execution_count": 0,
      "outputs": []
    },
    {
      "cell_type": "markdown",
      "metadata": {
        "id": "LOpIZp4KWYt3",
        "colab_type": "text"
      },
      "source": [
        "### Load best embeddigs from EDA"
      ]
    },
    {
      "cell_type": "code",
      "metadata": {
        "trusted": true,
        "id": "T9DoMRnFWYt5",
        "colab_type": "code",
        "colab": {}
      },
      "source": [
        "import operator \n",
        "\n",
        "# TAKEN FROM https://www.kaggle.com/christofhenkel/how-to-preprocessing-for-glove-part1-eda\n",
        "\n",
        "def check_coverage(vocab,embeddings_index):\n",
        "    a = {}\n",
        "    oov = {}\n",
        "    k = 0\n",
        "    i = 0\n",
        "    for word in tqdm(vocab):\n",
        "        try:\n",
        "            a[word] = embeddings_index[word]\n",
        "            k += vocab[word]\n",
        "        except:\n",
        "\n",
        "            oov[word] = vocab[word]\n",
        "            i += vocab[word]\n",
        "            pass\n",
        "\n",
        "    print('Found embeddings for {:.2%} of vocab'.format(len(a) / len(vocab)))\n",
        "    print('Found embeddings for  {:.2%} of all text'.format(k / (k + i)))\n",
        "    sorted_x = sorted(oov.items(), key=operator.itemgetter(1))[::-1]\n",
        "\n",
        "    return sorted_x\n",
        "\n",
        "def build_vocab(sentences, verbose =  True):\n",
        "    \"\"\"\n",
        "    :param sentences: list of list of words\n",
        "    :return: dictionary of words and their count\n",
        "    \"\"\"\n",
        "    vocab = {}\n",
        "    for sentence in tqdm(sentences, disable = (not verbose)):\n",
        "        for word in sentence:\n",
        "            try:\n",
        "                vocab[word] += 1\n",
        "            except KeyError:\n",
        "                vocab[word] = 1\n",
        "    return vocab"
      ],
      "execution_count": 0,
      "outputs": []
    },
    {
      "cell_type": "code",
      "metadata": {
        "trusted": true,
        "id": "x_VdNjmCWYt9",
        "colab_type": "code",
        "colab": {}
      },
      "source": [
        "def get_coefs(word, *arr):\n",
        "    return word, np.asarray(arr, dtype='float32')\n",
        "\n",
        "\n",
        "def load_embeddings(path):\n",
        "    with open(path,'rb') as f:\n",
        "        emb_arr = pickle.load(f)\n",
        "    return emb_arr\n",
        "\n",
        "def build_matrix(word_index, path):\n",
        "    embedding_index = load_embeddings(path)\n",
        "    embedding_matrix = np.zeros((len(word_index) + 1, 300))\n",
        "    unknown_words = []\n",
        "    \n",
        "    for word, i in word_index.items():\n",
        "        try:\n",
        "            embedding_matrix[i] = embedding_index[word]\n",
        "        except KeyError:\n",
        "            unknown_words.append(word)\n",
        "    return embedding_matrix, unknown_words"
      ],
      "execution_count": 0,
      "outputs": []
    },
    {
      "cell_type": "code",
      "metadata": {
        "trusted": true,
        "id": "X4eVk74MWYuB",
        "colab_type": "code",
        "colab": {
          "base_uri": "https://localhost:8080/",
          "height": 34
        },
        "outputId": "32cba3da-8585-4528-c1fe-95c50825ab55"
      },
      "source": [
        "import time \n",
        "tic = time.time()\n",
        "crawl_embeddings = load_embeddings(CRAWL_EMBEDDING_PATH)\n",
        "print(f'loaded {len(crawl_embeddings)} word vectors in {time.time()-tic}s')"
      ],
      "execution_count": 50,
      "outputs": [
        {
          "output_type": "stream",
          "text": [
            "loaded 2000000 word vectors in 13.546377420425415s\n"
          ],
          "name": "stdout"
        }
      ]
    },
    {
      "cell_type": "code",
      "metadata": {
        "trusted": true,
        "id": "olRc522xWYuL",
        "colab_type": "code",
        "colab": {}
      },
      "source": [
        "symbols_to_isolate = '.,?!-;*\"…:—()%#$&_/@＼・ω+=”“[]^–>\\\\°<~•≠™ˈʊɒ∞§{}·τα❤☺ɡ|¢→̶`❥━┣┫┗Ｏ►★©―ɪ✔®\\x96\\x92●£♥➤´¹☕≈÷♡◐║▬′ɔː€۩۞†μ✒➥═☆ˌ◄½ʻπδηλσερνʃ✬ＳＵＰＥＲＩＴ☻±♍µº¾✓◾؟．⬅℅»Вав❣⋅¿¬♫ＣＭβ█▓▒░⇒⭐›¡₂₃❧▰▔◞▀▂▃▄▅▆▇↙γ̄″☹➡«φ⅓„✋：¥̲̅́∙‛◇✏▷❓❗¶˚˙）сиʿ✨。ɑ\\x80◕！％¯−ﬂﬁ₁²ʌ¼⁴⁄₄⌠♭✘╪▶☭✭♪☔☠♂☃☎✈✌✰❆☙○‣⚓年∎ℒ▪▙☏⅛ｃａｓǀ℮¸ｗ‚∼‖ℳ❄←☼⋆ʒ⊂、⅔¨͡๏⚾⚽Φ×θ￦？（℃⏩☮⚠月✊❌⭕▸■⇌☐☑⚡☄ǫ╭∩╮，例＞ʕɐ̣Δ₀✞┈╱╲▏▕┃╰▊▋╯┳┊≥☒↑☝ɹ✅☛♩☞ＡＪＢ◔◡↓♀⬆̱ℏ\\x91⠀ˤ╚↺⇤∏✾◦♬³の｜／∵∴√Ω¤☜▲↳▫‿⬇✧ｏｖｍ－２０８＇‰≤∕ˆ⚜☁'\n",
        "symbols_to_delete = '\\n🍕\\r🐵😑\\xa0\\ue014\\t\\uf818\\uf04a\\xad😢🐶️\\uf0e0😜😎👊\\u200b\\u200e😁عدويهصقأناخلىبمغر😍💖💵Е👎😀😂\\u202a\\u202c🔥😄🏻💥ᴍʏʀᴇɴᴅᴏᴀᴋʜᴜʟᴛᴄᴘʙғᴊᴡɢ😋👏שלוםבי😱‼\\x81エンジ故障\\u2009🚌ᴵ͞🌟😊😳😧🙀😐😕\\u200f👍😮😃😘אעכח💩💯⛽🚄🏼ஜ😖ᴠ🚲‐😟😈💪🙏🎯🌹😇💔😡\\x7f👌ἐὶήιὲκἀίῃἴξ🙄Ｈ😠\\ufeff\\u2028😉😤⛺🙂\\u3000تحكسة👮💙فزط😏🍾🎉😞\\u2008🏾😅😭👻😥😔😓🏽🎆🍻🍽🎶🌺🤔😪\\x08‑🐰🐇🐱🙆😨🙃💕𝘊𝘦𝘳𝘢𝘵𝘰𝘤𝘺𝘴𝘪𝘧𝘮𝘣💗💚地獄谷улкнПоАН🐾🐕😆ה🔗🚽歌舞伎🙈😴🏿🤗🇺🇸мυтѕ⤵🏆🎃😩\\u200a🌠🐟💫💰💎эпрд\\x95🖐🙅⛲🍰🤐👆🙌\\u2002💛🙁👀🙊🙉\\u2004ˢᵒʳʸᴼᴷᴺʷᵗʰᵉᵘ\\x13🚬🤓\\ue602😵άοόςέὸתמדףנרךצט😒͝🆕👅👥👄🔄🔤👉👤👶👲🔛🎓\\uf0b7\\uf04c\\x9f\\x10成都😣⏺😌🤑🌏😯ех😲Ἰᾶὁ💞🚓🔔📚🏀👐\\u202d💤🍇\\ue613小土豆🏡❔⁉\\u202f👠》कर्मा🇹🇼🌸蔡英文🌞🎲レクサス😛外国人关系Сб💋💀🎄💜🤢َِьыгя不是\\x9c\\x9d🗑\\u2005💃📣👿༼つ༽😰ḷЗз▱ц￼🤣卖温哥华议会下降你失去所有的钱加拿大坏税骗子🐝ツ🎅\\x85🍺آإشء🎵🌎͟ἔ油别克🤡🤥😬🤧й\\u2003🚀🤴ʲшчИОРФДЯМюж😝🖑ὐύύ特殊作戦群щ💨圆明园קℐ🏈😺🌍⏏ệ🍔🐮🍁🍆🍑🌮🌯🤦\\u200d𝓒𝓲𝓿𝓵안영하세요ЖљКћ🍀😫🤤ῦ我出生在了可以说普通话汉语好极🎼🕺🍸🥂🗽🎇🎊🆘🤠👩🖒🚪天一家⚲\\u2006⚭⚆⬭⬯⏖新✀╌🇫🇷🇩🇪🇮🇬🇧😷🇨🇦ХШ🌐\\x1f杀鸡给猴看ʁ𝗪𝗵𝗲𝗻𝘆𝗼𝘂𝗿𝗮𝗹𝗶𝘇𝗯𝘁𝗰𝘀𝘅𝗽𝘄𝗱📺ϖ\\u2000үսᴦᎥһͺ\\u2007հ\\u2001ɩｙｅ൦ｌƽｈ𝐓𝐡𝐞𝐫𝐮𝐝𝐚𝐃𝐜𝐩𝐭𝐢𝐨𝐧Ƅᴨןᑯ໐ΤᏧ௦Іᴑ܁𝐬𝐰𝐲𝐛𝐦𝐯𝐑𝐙𝐣𝐇𝐂𝐘𝟎ԜТᗞ౦〔Ꭻ𝐳𝐔𝐱𝟔𝟓𝐅🐋ﬃ💘💓ё𝘥𝘯𝘶💐🌋🌄🌅𝙬𝙖𝙨𝙤𝙣𝙡𝙮𝙘𝙠𝙚𝙙𝙜𝙧𝙥𝙩𝙪𝙗𝙞𝙝𝙛👺🐷ℋ𝐀𝐥𝐪🚶𝙢Ἱ🤘ͦ💸ج패티Ｗ𝙇ᵻ👂👃ɜ🎫\\uf0a7БУі🚢🚂ગુજરાતીῆ🏃𝓬𝓻𝓴𝓮𝓽𝓼☘﴾̯﴿₽\\ue807𝑻𝒆𝒍𝒕𝒉𝒓𝒖𝒂𝒏𝒅𝒔𝒎𝒗𝒊👽😙\\u200cЛ‒🎾👹⎌🏒⛸公寓养宠物吗🏄🐀🚑🤷操美𝒑𝒚𝒐𝑴🤙🐒欢迎来到阿拉斯ספ𝙫🐈𝒌𝙊𝙭𝙆𝙋𝙍𝘼𝙅ﷻ🦄巨收赢得白鬼愤怒要买额ẽ🚗🐳𝟏𝐟𝟖𝟑𝟕𝒄𝟗𝐠𝙄𝙃👇锟斤拷𝗢𝟳𝟱𝟬⦁マルハニチロ株式社⛷한국어ㄸㅓ니͜ʖ𝘿𝙔₵𝒩ℯ𝒾𝓁𝒶𝓉𝓇𝓊𝓃𝓈𝓅ℴ𝒻𝒽𝓀𝓌𝒸𝓎𝙏ζ𝙟𝘃𝗺𝟮𝟭𝟯𝟲👋🦊多伦🐽🎻🎹⛓🏹🍷🦆为和中友谊祝贺与其想象对法如直接问用自己猜本传教士没积唯认识基督徒曾经让相信耶稣复活死怪他但当们聊些政治题时候战胜因圣把全堂结婚孩恐惧且栗谓这样还♾🎸🤕🤒⛑🎁批判检讨🏝🦁🙋😶쥐스탱트뤼도석유가격인상이경제황을렵게만들지않록잘관리해야합다캐나에서대마초와화약금의품런성분갈때는반드시허된사용🔫👁凸ὰ💲🗯𝙈Ἄ𝒇𝒈𝒘𝒃𝑬𝑶𝕾𝖙𝖗𝖆𝖎𝖌𝖍𝖕𝖊𝖔𝖑𝖉𝖓𝖐𝖜𝖞𝖚𝖇𝕿𝖘𝖄𝖛𝖒𝖋𝖂𝕴𝖟𝖈𝕸👑🚿💡知彼百\\uf005𝙀𝒛𝑲𝑳𝑾𝒋𝟒😦𝙒𝘾𝘽🏐𝘩𝘨ὼṑ𝑱𝑹𝑫𝑵𝑪🇰🇵👾ᓇᒧᔭᐃᐧᐦᑳᐨᓃᓂᑲᐸᑭᑎᓀᐣ🐄🎈🔨🐎🤞🐸💟🎰🌝🛳点击查版🍭𝑥𝑦𝑧ＮＧ👣\\uf020っ🏉ф💭🎥Ξ🐴👨🤳🦍\\x0b🍩𝑯𝒒😗𝟐🏂👳🍗🕉🐲چی𝑮𝗕𝗴🍒ꜥⲣⲏ🐑⏰鉄リ事件ї💊「」\\uf203\\uf09a\\uf222\\ue608\\uf202\\uf099\\uf469\\ue607\\uf410\\ue600燻製シ虚偽屁理屈Г𝑩𝑰𝒀𝑺🌤𝗳𝗜𝗙𝗦𝗧🍊ὺἈἡχῖΛ⤏🇳𝒙ψՁմեռայինրւդձ冬至ὀ𝒁🔹🤚🍎𝑷🐂💅𝘬𝘱𝘸𝘷𝘐𝘭𝘓𝘖𝘹𝘲𝘫کΒώ💢ΜΟΝΑΕ🇱♲𝝈↴💒⊘Ȼ🚴🖕🖤🥘📍👈➕🚫🎨🌑🐻𝐎𝐍𝐊𝑭🤖🎎😼🕷ｇｒｎｔｉｄｕｆｂｋ𝟰🇴🇭🇻🇲𝗞𝗭𝗘𝗤👼📉🍟🍦🌈🔭《🐊🐍\\uf10aლڡ🐦\\U0001f92f\\U0001f92a🐡💳ἱ🙇𝗸𝗟𝗠𝗷🥜さようなら🔼'"
      ],
      "execution_count": 0,
      "outputs": []
    },
    {
      "cell_type": "code",
      "metadata": {
        "trusted": true,
        "id": "ThWdrO3bWYuQ",
        "colab_type": "code",
        "colab": {}
      },
      "source": [
        "from nltk.tokenize.treebank import TreebankWordTokenizer\n",
        "def preprocess_data(train):\n",
        "    t1 = time.time()\n",
        "    \n",
        "    isolate_dict = {ord(c):f' {c} ' for c in symbols_to_isolate}\n",
        "    remove_dict = {ord(c):f'' for c in symbols_to_delete}\n",
        "    \n",
        "\n",
        "    def handle_punctuation(x):\n",
        "        x = x.translate(remove_dict)\n",
        "        x = x.translate(isolate_dict)\n",
        "        return x\n",
        "\n",
        "    train['statement'] = train['statement'].progress_apply(lambda x: handle_punctuation(x))\n",
        "    train['justification'] = train['justification'].progress_apply(lambda x: handle_punctuation(x))\n",
        "    \n",
        "    tokenizer = TreebankWordTokenizer()\n",
        "    def handle_contractions(x):\n",
        "        x = tokenizer.tokenize(x)\n",
        "        x = ' '.join(x)\n",
        "        return x\n",
        "\n",
        "    train['statement'] = train['statement'].progress_apply(lambda x:handle_contractions(x))\n",
        "    train['justification'] = train['justification'].progress_apply(lambda x:handle_contractions(x))\n",
        "    def fix_quote(x):\n",
        "        x = [x_[1:] if x_.startswith(\"'\") else x_ for x_ in x]\n",
        "        x = ' '.join(x)\n",
        "        return x\n",
        "\n",
        "    train['statement'] = train['statement'].progress_apply(lambda x:fix_quote(x.split()))\n",
        "    train['justification'] = train['justification'].progress_apply(lambda x:fix_quote(x.split()))\n",
        "    \n",
        "    print(f'Preprocess took {time.time() - t1}')\n",
        "    return train"
      ],
      "execution_count": 0,
      "outputs": []
    },
    {
      "cell_type": "code",
      "metadata": {
        "trusted": true,
        "id": "ucRzQjkLWYuU",
        "colab_type": "code",
        "colab": {
          "base_uri": "https://localhost:8080/",
          "height": 139
        },
        "outputId": "ee5742e6-3549-45b4-e6e3-7f9315854e75"
      },
      "source": [
        "data = preprocess_data(data)"
      ],
      "execution_count": 53,
      "outputs": [
        {
          "output_type": "stream",
          "text": [
            "100%|██████████| 12791/12791 [00:00<00:00, 90204.71it/s]\n",
            "100%|██████████| 12791/12791 [00:00<00:00, 24487.59it/s]\n",
            "100%|██████████| 12791/12791 [00:01<00:00, 8025.79it/s]\n",
            "100%|██████████| 12791/12791 [00:04<00:00, 2946.97it/s]\n",
            "100%|██████████| 12791/12791 [00:00<00:00, 131350.87it/s]\n",
            "100%|██████████| 12791/12791 [00:00<00:00, 44461.54it/s]"
          ],
          "name": "stderr"
        },
        {
          "output_type": "stream",
          "text": [
            "Preprocess took 7.020262718200684\n"
          ],
          "name": "stdout"
        },
        {
          "output_type": "stream",
          "text": [
            "\n"
          ],
          "name": "stderr"
        }
      ]
    },
    {
      "cell_type": "code",
      "metadata": {
        "trusted": true,
        "id": "JZT2LmgtWYuZ",
        "colab_type": "code",
        "colab": {
          "base_uri": "https://localhost:8080/",
          "height": 260
        },
        "outputId": "e335cc43-e057-4ac1-9020-0ade8a6e0583"
      },
      "source": [
        "vocab_statement = build_vocab(list(data['statement'].apply(lambda x:x.split())))\n",
        "oov_statement = check_coverage(vocab_statement,crawl_embeddings)\n",
        "oov_statement[:10]"
      ],
      "execution_count": 54,
      "outputs": [
        {
          "output_type": "stream",
          "text": [
            "100%|██████████| 12791/12791 [00:00<00:00, 201938.26it/s]\n",
            "100%|██████████| 15424/15424 [00:00<00:00, 878419.28it/s]"
          ],
          "name": "stderr"
        },
        {
          "output_type": "stream",
          "text": [
            "Found embeddings for 95.96% of vocab\n",
            "Found embeddings for  99.27% of all text\n"
          ],
          "name": "stdout"
        },
        {
          "output_type": "stream",
          "text": [
            "\n"
          ],
          "name": "stderr"
        },
        {
          "output_type": "execute_result",
          "data": {
            "text/plain": [
              "[('``', 1108),\n",
              " (\"n't\", 149),\n",
              " ('jsonmostly', 12),\n",
              " ('jsonhalf', 11),\n",
              " ('Kasichs', 11),\n",
              " ('trueSays', 5),\n",
              " ('Crists', 5),\n",
              " ('jsonbarely', 5),\n",
              " ('Cornilles', 5),\n",
              " ('jsontrueSays', 4)]"
            ]
          },
          "metadata": {
            "tags": []
          },
          "execution_count": 54
        }
      ]
    },
    {
      "cell_type": "code",
      "metadata": {
        "trusted": true,
        "id": "YtAU1RZXWYud",
        "colab_type": "code",
        "colab": {
          "base_uri": "https://localhost:8080/",
          "height": 260
        },
        "outputId": "7a27ba22-0a22-45e9-fc7e-f0df85a3db2f"
      },
      "source": [
        "vocab_justification = build_vocab(list(data['justification'].apply(lambda x:x.split())))\n",
        "oov_justification = check_coverage(vocab_justification,crawl_embeddings)\n",
        "oov_justification[:10]"
      ],
      "execution_count": 55,
      "outputs": [
        {
          "output_type": "stream",
          "text": [
            "100%|██████████| 12791/12791 [00:00<00:00, 51521.70it/s]\n",
            "100%|██████████| 28976/28976 [00:00<00:00, 615708.84it/s]"
          ],
          "name": "stderr"
        },
        {
          "output_type": "stream",
          "text": [
            "Found embeddings for 94.77% of vocab\n",
            "Found embeddings for  97.79% of all text\n"
          ],
          "name": "stdout"
        },
        {
          "output_type": "stream",
          "text": [
            "\n"
          ],
          "name": "stderr"
        },
        {
          "output_type": "execute_result",
          "data": {
            "text/plain": [
              "[('``', 19018),\n",
              " (\"n't\", 1588),\n",
              " ('sharethefacts', 556),\n",
              " ('PolitiFactRI', 115),\n",
              " ('2196f3', 55),\n",
              " ('politifactri', 37),\n",
              " ('Kasichs', 34),\n",
              " ('_', 33),\n",
              " ('McAuliffes', 27),\n",
              " ('Gingrichs', 26)]"
            ]
          },
          "metadata": {
            "tags": []
          },
          "execution_count": 55
        }
      ]
    },
    {
      "cell_type": "markdown",
      "metadata": {
        "id": "G95M_41dWYug",
        "colab_type": "text"
      },
      "source": [
        "### Data preprocessing"
      ]
    },
    {
      "cell_type": "code",
      "metadata": {
        "trusted": true,
        "id": "p27rK50_WYuh",
        "colab_type": "code",
        "colab": {}
      },
      "source": [
        "from sklearn.preprocessing import LabelEncoder\n",
        "COLUMNS_TO_PROCESS = ['subject', 'speaker', 'speakers_job', 'state_info', 'party_aff', 'context']\n",
        "\n",
        "def preprocess(d):\n",
        "    data = d.copy()\n",
        "    lc = LabelEncoder()\n",
        "    for col in COLUMNS_TO_PROCESS:\n",
        "        data[col] = data[col].fillna('Other')\n",
        "        col_dict = data[col].value_counts()\n",
        "        data[col].apply(lambda x: x if col_dict[x] > np.percentile(col_dict.values, BASIC_FEAT_PERCENTILE) else 'Other')\n",
        "        data[col] = lc.fit_transform(data[col])\n",
        "    return data\n",
        "data = preprocess(data)"
      ],
      "execution_count": 0,
      "outputs": []
    },
    {
      "cell_type": "code",
      "metadata": {
        "trusted": true,
        "id": "Jqaj47-nWYuk",
        "colab_type": "code",
        "colab": {}
      },
      "source": [
        "from sklearn.model_selection import train_test_split\n",
        "label_dict = {\n",
        "    'half-true': 2,\n",
        "    'false': 1,\n",
        "    'mostly-true': 4,\n",
        "    'true': 5,\n",
        "    'barely-true': 3,\n",
        "    'pants-fire': 0\n",
        "}\n",
        "\n",
        "try:\n",
        "    data = data.drop(columns = 'id')\n",
        "except:\n",
        "    pass\n",
        "data['label'] = data['label'].map(label_dict)\n",
        "tr, vl, te = data.iloc[train.index, :], data.iloc[train.index[-1] + valid.index, :], data.iloc[train.index[-1] + valid.index[-1] + test.index, :]"
      ],
      "execution_count": 0,
      "outputs": []
    },
    {
      "cell_type": "code",
      "metadata": {
        "trusted": true,
        "id": "tFsd66ktWYun",
        "colab_type": "code",
        "colab": {}
      },
      "source": [
        "from keras.utils import to_categorical\n",
        "tr_st, tr_justi, tr_add, tr_label = tr['statement'], tr['justification'], tr.loc[:, 'subject': 'context'], to_categorical(tr.loc[:, 'label'])\n",
        "val_st, val_justi, val_add, val_label = vl['statement'], vl['justification'], vl.loc[:, 'subject': 'context'], to_categorical(vl.loc[:, 'label'])\n",
        "te_st, te_justi, te_add, te_label = te['statement'], te['justification'], te.loc[:, 'subject': 'context'], to_categorical(te.loc[:, 'label'])"
      ],
      "execution_count": 0,
      "outputs": []
    },
    {
      "cell_type": "markdown",
      "metadata": {
        "id": "Bg2jbIx7WYur",
        "colab_type": "text"
      },
      "source": [
        "### Build model"
      ]
    },
    {
      "cell_type": "code",
      "metadata": {
        "trusted": true,
        "id": "K_xOcXiVWYus",
        "colab_type": "code",
        "colab": {}
      },
      "source": [
        "from keras.preprocessing import text, sequence\n",
        "max_features = 400000\n",
        "MAX_LEN = 300\n",
        "tokenizer = text.Tokenizer(num_words = max_features, filters='', lower=False)\n",
        "vals_to_tokenize = list(tr_st) + list(tr_justi) + list(val_st) + list(val_justi) + list(te_st) + list(te_justi)\n",
        "tokenizer.fit_on_texts(vals_to_tokenize)\n",
        "\n",
        "tr_st = tokenizer.texts_to_sequences(tr_st)\n",
        "tr_justi = tokenizer.texts_to_sequences(tr_justi)\n",
        "val_st = tokenizer.texts_to_sequences(val_st)\n",
        "val_justi = tokenizer.texts_to_sequences(val_justi)\n",
        "te_st = tokenizer.texts_to_sequences(te_st)\n",
        "te_justi = tokenizer.texts_to_sequences(te_justi)\n",
        "\n",
        "tr_st = sequence.pad_sequences(tr_st, maxlen=MAX_LEN)\n",
        "tr_justi = sequence.pad_sequences(tr_justi, maxlen=MAX_LEN)\n",
        "val_st = sequence.pad_sequences(val_st, maxlen=MAX_LEN)\n",
        "val_justi = sequence.pad_sequences(val_justi, maxlen=MAX_LEN)\n",
        "te_st = sequence.pad_sequences(te_st, maxlen=MAX_LEN)\n",
        "te_justi = sequence.pad_sequences(te_justi, maxlen=MAX_LEN)"
      ],
      "execution_count": 0,
      "outputs": []
    },
    {
      "cell_type": "code",
      "metadata": {
        "trusted": true,
        "id": "equsbs83WYuw",
        "colab_type": "code",
        "colab": {
          "base_uri": "https://localhost:8080/",
          "height": 52
        },
        "outputId": "b00813c5-ffc9-4e16-dd8a-cd2ae604b505"
      },
      "source": [
        "import gc\n",
        "# get embeddings\n",
        "crawl_matrix, unknown_words_crawl = build_matrix(tokenizer.word_index, CRAWL_EMBEDDING_PATH)\n",
        "print('n unknown words (crawl): ', len(unknown_words_crawl))\n",
        "\n",
        "max_features = max_features or len(tokenizer.word_index) + 1\n",
        "gc.collect()"
      ],
      "execution_count": 60,
      "outputs": [
        {
          "output_type": "stream",
          "text": [
            "n unknown words (crawl):  2044\n"
          ],
          "name": "stdout"
        },
        {
          "output_type": "execute_result",
          "data": {
            "text/plain": [
              "0"
            ]
          },
          "metadata": {
            "tags": []
          },
          "execution_count": 60
        }
      ]
    },
    {
      "cell_type": "code",
      "metadata": {
        "trusted": true,
        "id": "q4nAgOjWWYu0",
        "colab_type": "code",
        "colab": {}
      },
      "source": [
        "from keras.models import Model\n",
        "from keras.layers import Input, Dense, Embedding, SpatialDropout1D, add, concatenate\n",
        "from keras.layers import CuDNNLSTM, Bidirectional, GlobalMaxPooling1D, GlobalAveragePooling1D\n",
        "from keras.preprocessing import text, sequence\n",
        "from keras.metrics import binary_accuracy, categorical_accuracy, sparse_categorical_accuracy\n",
        "from keras.callbacks import LearningRateScheduler, ModelCheckpoint, EarlyStopping\n",
        "\n",
        "LSTM_UNITS = 128\n",
        "DENSE_HIDDEN_UNITS = 4 * LSTM_UNITS\n",
        "\n",
        "def build_model(embedding_matrix, normal_feats_shape = 11):\n",
        "    # ----------- Statements network input\n",
        "    statements = Input(shape=(None,))\n",
        "    \n",
        "    x1 = Embedding(*embedding_matrix.shape, weights=[embedding_matrix], trainable=False)(statements)\n",
        "    # x1 = SpatialDropout1D(0.2)(x1)\n",
        "    # x1 = Bidirectional(CuDNNLSTM(LSTM_UNITS, return_sequences=True))(x1)\n",
        "    x1 = Bidirectional(CuDNNLSTM(LSTM_UNITS, return_sequences=True))(x1)\n",
        "    \n",
        "    hidden1 = concatenate([\n",
        "        GlobalMaxPooling1D()(x1),\n",
        "        GlobalAveragePooling1D()(x1),\n",
        "    ])\n",
        "    \n",
        "    hidden1 = add([hidden1, Dense(DENSE_HIDDEN_UNITS, activation='relu')(hidden1)])\n",
        "    hidden1 = add([hidden1, Dense(DENSE_HIDDEN_UNITS, activation='relu')(hidden1)])\n",
        "    \n",
        "    # ----------- Justifications network input\n",
        "    \n",
        "    justifications = Input(shape = (None, ))\n",
        "    \n",
        "    x2 = Embedding(*embedding_matrix.shape, weights=[embedding_matrix], trainable=False)(justifications)\n",
        "    x2 = SpatialDropout1D(0.2)(x2)\n",
        "    x2 = Bidirectional(CuDNNLSTM(LSTM_UNITS, return_sequences=True))(x2)\n",
        "    x2 = Bidirectional(CuDNNLSTM(LSTM_UNITS, return_sequences=True))(x2)\n",
        "    \n",
        "    hidden2 = concatenate([\n",
        "        GlobalMaxPooling1D()(x2),\n",
        "        GlobalAveragePooling1D()(x2),\n",
        "    ])\n",
        "    \n",
        "    hidden2 = add([hidden2, Dense(DENSE_HIDDEN_UNITS, activation='relu')(hidden2)])\n",
        "    hidden2 = add([hidden2, Dense(DENSE_HIDDEN_UNITS, activation='relu')(hidden2)])\n",
        "    \n",
        "    # ------------------- Other features network input\n",
        "    \n",
        "    norm_input = Input(shape = (normal_feats_shape, ))\n",
        "    x3 = Dense(8, activation = 'sigmoid')(norm_input)\n",
        "    \n",
        "    # ------- Connecting all 3 branches in one\n",
        "    \n",
        "    hidden = concatenate([hidden1, hidden2, x3])\n",
        "    result = Dense(6, activation='sigmoid')(hidden)\n",
        "    \n",
        "    model = Model(inputs=[statements, justifications, norm_input], outputs=[result])\n",
        "    model.compile(loss='categorical_crossentropy', optimizer='adam', metrics = [categorical_accuracy])\n",
        "\n",
        "    return model"
      ],
      "execution_count": 0,
      "outputs": []
    },
    {
      "cell_type": "code",
      "metadata": {
        "trusted": true,
        "id": "zD2cCBhiWYu2",
        "colab_type": "code",
        "colab": {
          "base_uri": "https://localhost:8080/",
          "height": 885
        },
        "outputId": "65375e7d-aea1-4d74-c5ad-f79e7c5a0b00"
      },
      "source": [
        "model = build_model(crawl_matrix)\n",
        "\n",
        "from keras.callbacks import ModelCheckpoint, EarlyStopping\n",
        "\n",
        "checkpointer = ModelCheckpoint(filepath='multi.h5', verbose = 1, save_best_only=True)\n",
        "stop = EarlyStopping(monitor='val_loss', patience=15, verbose=1, mode='min')\n",
        "\n",
        "model.fit(\n",
        "            [tr_st, tr_justi, tr_add],\n",
        "            [tr_label],\n",
        "            batch_size=BATCH_SIZE,\n",
        "            validation_data = ([val_st, val_justi, val_add], val_label),\n",
        "            epochs=12,\n",
        "            verbose=1,\n",
        "            callbacks=[checkpointer, stop]\n",
        "        )"
      ],
      "execution_count": 62,
      "outputs": [
        {
          "output_type": "stream",
          "text": [
            "Train on 10240 samples, validate on 1284 samples\n",
            "Epoch 1/12\n",
            "10240/10240 [==============================] - 15s 1ms/step - loss: 1.7420 - categorical_accuracy: 0.2190 - val_loss: 1.7079 - val_categorical_accuracy: 0.2539\n",
            "\n",
            "Epoch 00001: val_loss improved from inf to 1.70788, saving model to multi.h5\n",
            "Epoch 2/12\n",
            "10240/10240 [==============================] - 13s 1ms/step - loss: 1.6929 - categorical_accuracy: 0.2535 - val_loss: 1.6876 - val_categorical_accuracy: 0.2562\n",
            "\n",
            "Epoch 00002: val_loss improved from 1.70788 to 1.68755, saving model to multi.h5\n",
            "Epoch 3/12\n",
            "10240/10240 [==============================] - 13s 1ms/step - loss: 1.6502 - categorical_accuracy: 0.2756 - val_loss: 1.6885 - val_categorical_accuracy: 0.2757\n",
            "\n",
            "Epoch 00003: val_loss did not improve from 1.68755\n",
            "Epoch 4/12\n",
            "10240/10240 [==============================] - 13s 1ms/step - loss: 1.5652 - categorical_accuracy: 0.3250 - val_loss: 1.7123 - val_categorical_accuracy: 0.2625\n",
            "\n",
            "Epoch 00004: val_loss did not improve from 1.68755\n",
            "Epoch 5/12\n",
            "10240/10240 [==============================] - 13s 1ms/step - loss: 1.4099 - categorical_accuracy: 0.4067 - val_loss: 1.7556 - val_categorical_accuracy: 0.2734\n",
            "\n",
            "Epoch 00005: val_loss did not improve from 1.68755\n",
            "Epoch 6/12\n",
            "10240/10240 [==============================] - 13s 1ms/step - loss: 1.1635 - categorical_accuracy: 0.5399 - val_loss: 1.9384 - val_categorical_accuracy: 0.2430\n",
            "\n",
            "Epoch 00006: val_loss did not improve from 1.68755\n",
            "Epoch 7/12\n",
            "10240/10240 [==============================] - 13s 1ms/step - loss: 0.8782 - categorical_accuracy: 0.6728 - val_loss: 2.2175 - val_categorical_accuracy: 0.2562\n",
            "\n",
            "Epoch 00007: val_loss did not improve from 1.68755\n",
            "Epoch 8/12\n",
            "10240/10240 [==============================] - 13s 1ms/step - loss: 0.6221 - categorical_accuracy: 0.7788 - val_loss: 2.4429 - val_categorical_accuracy: 0.2492\n",
            "\n",
            "Epoch 00008: val_loss did not improve from 1.68755\n",
            "Epoch 9/12\n",
            "10240/10240 [==============================] - 13s 1ms/step - loss: 0.3662 - categorical_accuracy: 0.8920 - val_loss: 2.7550 - val_categorical_accuracy: 0.2617\n",
            "\n",
            "Epoch 00009: val_loss did not improve from 1.68755\n",
            "Epoch 10/12\n",
            "10240/10240 [==============================] - 13s 1ms/step - loss: 0.2005 - categorical_accuracy: 0.9550 - val_loss: 3.1594 - val_categorical_accuracy: 0.2718\n",
            "\n",
            "Epoch 00010: val_loss did not improve from 1.68755\n",
            "Epoch 11/12\n",
            "10240/10240 [==============================] - 13s 1ms/step - loss: 0.0964 - categorical_accuracy: 0.9882 - val_loss: 3.6861 - val_categorical_accuracy: 0.2664\n",
            "\n",
            "Epoch 00011: val_loss did not improve from 1.68755\n",
            "Epoch 12/12\n",
            "10240/10240 [==============================] - 13s 1ms/step - loss: 0.0535 - categorical_accuracy: 0.9965 - val_loss: 4.1801 - val_categorical_accuracy: 0.2578\n",
            "\n",
            "Epoch 00012: val_loss did not improve from 1.68755\n"
          ],
          "name": "stdout"
        },
        {
          "output_type": "execute_result",
          "data": {
            "text/plain": [
              "<keras.callbacks.History at 0x7facfb389a20>"
            ]
          },
          "metadata": {
            "tags": []
          },
          "execution_count": 62
        }
      ]
    },
    {
      "cell_type": "code",
      "metadata": {
        "id": "GVhlhRUxthWC",
        "colab_type": "code",
        "colab": {}
      },
      "source": [
        "model_json = model.to_json()\n",
        "with open(\"multi.json\", \"w\") as json_file:\n",
        "    json_file.write(model_json)"
      ],
      "execution_count": 0,
      "outputs": []
    },
    {
      "cell_type": "code",
      "metadata": {
        "trusted": true,
        "id": "5xz575ehWYu6",
        "colab_type": "code",
        "colab": {
          "base_uri": "https://localhost:8080/",
          "height": 34
        },
        "outputId": "a5a51010-49fa-4574-e73b-ae3b9ed7e249"
      },
      "source": [
        "from sklearn.metrics import accuracy_score, confusion_matrix\n",
        "\n",
        "te_label = te.loc[:, 'label']\n",
        "test_preds = np.argmax(model.predict([te_st, te_justi, te_add]), axis = 1)\n",
        "\n",
        "# print('ROC AUC {}'.format(roc_auc_score(te_label, test_preds)))\n",
        "print('Accuracy {}'.format(accuracy_score(te_label, test_preds)))"
      ],
      "execution_count": 64,
      "outputs": [
        {
          "output_type": "stream",
          "text": [
            "Accuracy 0.24546172059984214\n"
          ],
          "name": "stdout"
        }
      ]
    },
    {
      "cell_type": "code",
      "metadata": {
        "trusted": true,
        "id": "5RWZnOJnWYu_",
        "colab_type": "code",
        "colab": {
          "base_uri": "https://localhost:8080/",
          "height": 295
        },
        "outputId": "89f3847b-2424-4686-ac82-aba660e880cb"
      },
      "source": [
        "confusion = confusion_matrix(te_label, test_preds)\n",
        "cm_df = pd.DataFrame(confusion)\n",
        "\n",
        "plt.figure(figsize=(5.5,4))\n",
        "sns.heatmap(cm_df, annot=True)\n",
        "plt.title('Confusion Matrix')\n",
        "plt.ylabel('True label')\n",
        "plt.xlabel('Predicted label')\n",
        "plt.show()"
      ],
      "execution_count": 65,
      "outputs": [
        {
          "output_type": "display_data",
          "data": {
            "image/png": "[encoded data removed]",
            "text/plain": [
              "<Figure size 396x288 with 2 Axes>"
            ]
          },
          "metadata": {
            "tags": []
          }
        }
      ]
    },
    {
      "cell_type": "code",
      "metadata": {
        "trusted": true,
        "id": "X7F-BqlcWYvC",
        "colab_type": "code",
        "colab": {}
      },
      "source": [
        ""
      ],
      "execution_count": 0,
      "outputs": []
    }
  ]
}
